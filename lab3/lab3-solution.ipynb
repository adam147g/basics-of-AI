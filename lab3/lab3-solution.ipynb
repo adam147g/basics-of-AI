{
  "cells": [
    {
      "cell_type": "markdown",
      "metadata": {
        "id": "vFZtchqbgY7H"
      },
      "source": [
        "# Sieci neuronowe"
      ]
    },
    {
      "cell_type": "markdown",
      "metadata": {
        "id": "2RCIBLdfgY7M"
      },
      "source": [
        "## Wstęp\n",
        "\n",
        "Celem laboratorium jest zapoznanie się z podstawami sieci neuronowych oraz uczeniem głębokim (*deep learning*). Zapoznasz się na nim z następującymi tematami:\n",
        "- treningiem prostych sieci neuronowych, w szczególności z:\n",
        "  - regresją liniową w sieciach neuronowych\n",
        "  - optymalizacją funkcji kosztu\n",
        "  - algorytmem spadku wzdłuż gradientu\n",
        "  - siecią typu Multilayer Perceptron (MLP)\n",
        "- frameworkiem PyTorch, w szczególności z:\n",
        "  - ładowaniem danych\n",
        "  - preprocessingiem danych\n",
        "  - pisaniem pętli treningowej i walidacyjnej\n",
        "  - walidacją modeli\n",
        "- architekturą i hiperaprametrami sieci MLP, w szczególności z:\n",
        "  - warstwami gęstymi (w pełni połączonymi)\n",
        "  - funkcjami aktywacji\n",
        "  - regularyzacją: L2, dropout"
      ]
    },
    {
      "cell_type": "markdown",
      "metadata": {
        "id": "nLm7HqpagY7O"
      },
      "source": [
        "## Wykorzystywane biblioteki\n",
        "\n",
        "Zaczniemy od pisania ręcznie prostych sieci w bibliotece Numpy, służącej do obliczeń numerycznych na CPU. Później przejdziemy do wykorzystywania frameworka PyTorch, służącego do obliczeń numerycznych na CPU, GPU oraz automatycznego różniczkowania, wykorzystywanego głównie do treningu sieci neuronowych.\n",
        "\n",
        "Wykorzystamy PyTorcha ze względu na popularność, łatwość instalacji i użycia, oraz dużą kontrolę nad niskopoziomowymi aspektami budowy i treningu sieci neuronowych. Framework ten został stworzony do zastosowań badawczych i naukowych, ale ze względu na wygodę użycia stał się bardzo popularny także w przemyśle. W szczególności całkowicie zdominował przetwarzanie języka naturalnego (NLP) oraz uczenie na grafach.\n",
        "\n",
        "Pierwszy duży framework do deep learningu, oraz obecnie najpopularniejszy, to TensorFlow, wraz z wysokopoziomową nakładką Keras. Są jednak szanse, że Google (autorzy) będzie go powoli porzucać na rzecz ich nowego frameworka JAX ([dyskusja](https://www.reddit.com/r/MachineLearning/comments/vfl57t/d_google_quietly_moving_its_products_from/), [artykuł Business Insidera](https://www.businessinsider.com/facebook-pytorch-beat-google-tensorflow-jax-meta-ai-2022-6?IR=T)), który jest bardzo świeżym, ale ciekawym narzędziem.\n",
        "\n",
        "Trzecia, ale znacznie mniej popularna od powyższych opcja to Apache MXNet."
      ]
    },
    {
      "cell_type": "markdown",
      "metadata": {
        "id": "d_kn2DDOgY7P"
      },
      "source": [
        "## Konfiguracja własnego komputera\n",
        "\n",
        "Jeżeli korzystasz z własnego komputera, to musisz zainstalować trochę więcej bibliotek (Google Colab ma je już zainstalowane).\n",
        "\n",
        "Jeżeli nie masz GPU lub nie chcesz z niego korzystać, to wystarczy znaleźć odpowiednią komendę CPU [na stronie PyTorcha](https://pytorch.org/get-started/locally/). Dla Anacondy odpowiednia komenda została podana poniżej, dla pip'a znajdź ją na stronie.\n",
        "\n",
        "Jeżeli chcesz korzystać ze wsparcia GPU (na tym laboratorium nie będzie potrzebne, na kolejnych może przyspieszyć nieco obliczenia), to musi być to odpowiednio nowa karta NVidii, mająca CUDA compatibility ([lista](https://developer.nvidia.com/cuda-gpus)). Poza PyTorchem będzie potrzebne narzędzie NVidia CUDA w wersji 11.6 lub 11.7. Instalacja na Windowsie jest bardzo prosta (wystarczy ściągnąć plik EXE i zainstalować jak każdy inny program). Instalacja na Linuxie jest trudna i można względnie łatwo zepsuć sobie system, ale jeżeli chcesz spróbować, to [ten tutorial](https://www.youtube.com/results?search_query=nvidia+cuda+install+ubuntu+20.04) jest bardzo dobry."
      ]
    },
    {
      "cell_type": "code",
      "execution_count": 26,
      "metadata": {
        "id": "hwnOEQHKgY7Q",
        "colab": {
          "base_uri": "https://localhost:8080/"
        },
        "outputId": "53d8ec54-dade-4240-ad26-61a43336b6e6"
      },
      "outputs": [
        {
          "output_type": "stream",
          "name": "stdout",
          "text": [
            "/bin/bash: line 1: conda: command not found\n"
          ]
        }
      ],
      "source": [
        "# for conda users\n",
        "!conda install -y matplotlib pandas pytorch torchvision -c pytorch -c conda-forge"
      ]
    },
    {
      "cell_type": "code",
      "source": [
        "# pip3 install torch torchvision torchaudio --index-url https://download.pytorch.org/whl/cu118"
      ],
      "metadata": {
        "id": "mT7Z9LtUhBzq"
      },
      "execution_count": null,
      "outputs": []
    },
    {
      "cell_type": "markdown",
      "metadata": {
        "id": "Othm3C2lLAsj"
      },
      "source": [
        "## Wprowadzenie\n",
        "\n",
        "Zanim zaczniemy naszą przygodę z sieciami neuronowymi, przyjrzyjmy się prostemu przykładowi regresji liniowej na syntetycznych danych:"
      ]
    },
    {
      "cell_type": "code",
      "execution_count": 27,
      "metadata": {
        "id": "rnJsfxbnLAsj"
      },
      "outputs": [],
      "source": [
        "from typing import Tuple, Dict\n",
        "\n",
        "import numpy as np\n",
        "import matplotlib.pyplot as plt"
      ]
    },
    {
      "cell_type": "code",
      "execution_count": 28,
      "metadata": {
        "id": "EaYpEXzBLAsl",
        "colab": {
          "base_uri": "https://localhost:8080/",
          "height": 447
        },
        "outputId": "a6c934f9-a7c3-4b12-ffae-ec80a969f0b0"
      },
      "outputs": [
        {
          "output_type": "execute_result",
          "data": {
            "text/plain": [
              "<matplotlib.collections.PathCollection at 0x7a46c57e93c0>"
            ]
          },
          "metadata": {},
          "execution_count": 28
        },
        {
          "output_type": "display_data",
          "data": {
            "text/plain": [
              "<Figure size 640x480 with 1 Axes>"
            ],
            "image/png": "[encoded data removed]"
          },
          "metadata": {}
        }
      ],
      "source": [
        "np.random.seed(0)\n",
        "\n",
        "x = np.linspace(0, 1, 100)\n",
        "y = x + np.random.normal(scale=0.1, size=x.shape)\n",
        "\n",
        "plt.scatter(x, y)"
      ]
    },
    {
      "cell_type": "markdown",
      "metadata": {
        "id": "PEM_-yKELAsl"
      },
      "source": [
        "W przeciwieństwie do laboratorium 1, tym razem będziemy chcieli rozwiązać ten problem własnoręcznie, bez użycia wysokopoziomowego interfejsu Scikit-learn'a. W tym celu musimy sobie przypomnieć sformułowanie naszego **problemu optymalizacyjnego (optimization problem)**.\n",
        "\n",
        "W przypadku prostej regresji liniowej (1 zmienna) mamy model postaci $\\hat{y} = \\alpha x + \\beta$, z dwoma parametrami, których będziemy się uczyć. Miarą niedopasowania modelu o danych parametrach jest **funkcja kosztu (cost function)**, nazywana też funkcją celu. Najczęściej używa się **błędu średniokwadratowego (mean squared error, MSE)**:\n",
        "$$\\large\n",
        "MSE = \\frac{1}{N} \\sum_{i}^{N} (y - \\hat{y})^2\n",
        "$$\n",
        "\n",
        "Od jakich $\\alpha$ i $\\beta$ zacząć? W najprostszym wypadku wystarczy po prostu je wylosować jako niewielkie liczby zmiennoprzecinkowe.\n",
        "\n",
        "#### Zadanie 1 (0.5 punkt)\n",
        "\n",
        "Uzupełnij kod funkcji `mse`, obliczającej błąd średniokwadratowy. Wykorzystaj Numpy'a w celu wektoryzacji obliczeń dla wydajności."
      ]
    },
    {
      "cell_type": "code",
      "execution_count": 29,
      "metadata": {
        "id": "RaA7Q46TLAsm"
      },
      "outputs": [],
      "source": [
        "def mse(y: np.ndarray, y_hat: np.ndarray) -> float:\n",
        "    N = len(y)\n",
        "    mse_value = np.sum((y - y_hat) ** 2) / N\n",
        "    return mse_value\n"
      ]
    },
    {
      "cell_type": "code",
      "execution_count": 30,
      "metadata": {
        "colab": {
          "base_uri": "https://localhost:8080/",
          "height": 465
        },
        "id": "qSGfamGbLAsm",
        "outputId": "572d4ba2-4f05-4ca0-89f9-50b36dee08ea"
      },
      "outputs": [
        {
          "output_type": "stream",
          "name": "stdout",
          "text": [
            "MSE: 0.133\n"
          ]
        },
        {
          "output_type": "execute_result",
          "data": {
            "text/plain": [
              "[<matplotlib.lines.Line2D at 0x7a46c5679060>]"
            ]
          },
          "metadata": {},
          "execution_count": 30
        },
        {
          "output_type": "display_data",
          "data": {
            "text/plain": [
              "<Figure size 640x480 with 1 Axes>"
            ],
            "image/png": "[encoded data removed]"
          },
          "metadata": {}
        }
      ],
      "source": [
        "a = np.random.rand()\n",
        "b = np.random.rand()\n",
        "print(f\"MSE: {mse(y, a * x + b):.3f}\")\n",
        "\n",
        "plt.scatter(x, y)\n",
        "plt.plot(x, a * x + b, color=\"g\", linewidth=4)"
      ]
    },
    {
      "cell_type": "markdown",
      "metadata": {
        "id": "Y--E9Mp9LAsn"
      },
      "source": [
        "Losowe parametry radzą sobie nie najlepiej. Jak lepiej dopasować naszą prostą do danych? Zawsze możemy starać się wyprowadzić rozwiązanie analitycznie, i w tym wypadku nawet nam się uda. Jest to jednak szczególny i dość rzadki przypadek, a w szczególności nie będzie to możliwe w większych sieciach neuronowych.\n",
        "\n",
        "Potrzebna nam będzie **metoda optymalizacji (optimization method)**, dającą wartości parametrów minimalizujące dowolną różniczkowalną funkcję kosztu. Zdecydowanie najpopularniejszy jest tutaj **spadek wzdłuż gradientu (gradient descent)**.\n",
        "\n",
        "Metoda ta wywodzi się z prostych obserwacji, które tutaj przedstawimy. Bardziej szczegółowe rozwinięcie dla zainteresowanych: [sekcja 4.3 \"Deep Learning Book\"](https://www.deeplearningbook.org/contents/numerical.html), [ten praktyczny kurs](https://cs231n.github.io/optimization-1/), [analiza oryginalnej publikacji Cauchy'ego](https://www.math.uni-bielefeld.de/documenta/vol-ismp/40_lemarechal-claude.pdf) (oryginał w języku francuskim).\n",
        "\n",
        "Pochodna jest dokładnie równa granicy funkcji. Dla małego $\\epsilon$ można ją przybliżyć jako:\n",
        "$$\\large\n",
        "\\frac{f(x)}{dx} \\approx \\frac{f(x+\\epsilon) - f(x)}{\\epsilon}\n",
        "$$\n",
        "\n",
        "Przyglądając się temu równaniu widzimy, że:\n",
        "* dla funkcji rosnącej ($f(x+\\epsilon) > f(x)$) wyrażenie $\\frac{f(x)}{dx}$ będzie miało znak dodatni\n",
        "* dla funkcji malejącej ($f(x+\\epsilon) < f(x)$) wyrażenie $\\frac{f(x)}{dx}$ będzie miało znak ujemny\n",
        "\n",
        "Widzimy więc, że potrafimy wskazać kierunek zmniejszenia wartości funkcji, patrząc na znak pochodnej. Zaobserwowano także, że amplituda wartości w $\\frac{f(x)}{dx}$ jest tym większa, im dalej jesteśmy od minimum (maximum). Pochodna wyznacza więc, w jakim kierunku funkcja najszybciej rośnie, zaś przeciwny zwrot to ten, w którym funkcja najszybciej spada.\n",
        "\n",
        "Stosując powyższe do optymalizacji, mamy:\n",
        "$$\\large\n",
        "x_{t+1} = x_{t} -  \\alpha * \\frac{f(x)}{dx}\n",
        "$$\n",
        "\n",
        "$\\alpha$ to niewielka wartość (rzędu zwykle $10^{-5}$ - $10^{-2}$), wprowadzona, aby trzymać się założenia o małej zmianie parametrów ($\\epsilon$). Nazywa się ją **stałą uczącą (learning rate)** i jest zwykle najważniejszym hiperparametrem podczas nauki sieci.\n",
        "\n",
        "Metoda ta zakłada, że używamy całego zbioru danych do aktualizacji parametrów w każdym kroku, co nazywa się po prostu GD (od *gradient descent*) albo *full batch GD*. Wtedy każdy krok optymalizacji nazywa się **epoką (epoch)**.\n",
        "\n",
        "Im większa stała ucząca, tym większe nasze kroki podczas minimalizacji. Możemy więc uczyć szybciej, ale istnieje ryzyko, że będziemy \"przeskakiwać\" minima. Mniejsza stała ucząca to wolniejszy, ale dokładniejszy trening. Jednak nie zawsze ona pozwala osiągnąć lepsze wyniki, bo może okazać się, że utkniemy w minimum lokalnym. Można także zmieniać stałą uczącą podczas treningu, co nazywa się **learning rate scheduling (LR scheduling)**. Obrazowo:\n",
        "\n",
        "![learning_rate](http://www.bdhammel.com/assets/learning-rate/lr-types.png)"
      ]
    },
    {
      "cell_type": "markdown",
      "metadata": {
        "id": "496qEjkVLAso"
      },
      "source": [
        "![interactive LR](http://cdn-images-1.medium.com/max/640/1*eeIvlwkMNG1wSmj3FR6M2g.gif)"
      ]
    },
    {
      "cell_type": "markdown",
      "metadata": {
        "id": "RYkyAHKzLAsp"
      },
      "source": [
        "Policzmy więc pochodną dla naszej funkcji kosztu MSE. Pochodną liczymy po parametrach naszego modelu, bo to właśnie ich chcemy dopasować tak, żeby koszt był jak najmniejszy:\n",
        "\n",
        "$$\\large\n",
        "MSE = \\frac{1}{N} \\sum_{i}^{N} (y_i - \\hat{y_i})^2\n",
        "$$\n",
        "\n",
        "W powyższym wzorze tylko $y_i$ jest zależny od $a$ oraz $b$. Możemy wykorzystać tu regułę łańcuchową (*chain rule*) i policzyć pochodne po naszych parametrach w sposób następujący:\n",
        "\n",
        "$$\\large\n",
        "\\frac{\\text{d} MSE}{\\text{d} a} = \\frac{1}{N} \\sum_{i}^{N} \\frac{\\text{d} (y_i - \\hat{y_i})^2}{\\text{d} \\hat{y_i}} \\frac{\\text{d} \\hat{y_i}}{\\text{d} a}\n",
        "$$\n",
        "\n",
        "$$\\large\n",
        "\\frac{\\text{d} MSE}{\\text{d} b} = \\frac{1}{N} \\sum_{i}^{N} \\frac{\\text{d} (y_i - \\hat{y_i})^2}{\\text{d} \\hat{y_i}} \\frac{\\text{d} \\hat{y_i}}{\\text{d} b}\n",
        "$$\n",
        "\n",
        "Policzmy te pochodne po kolei:\n",
        "\n",
        "$$\\large\n",
        "\\frac{\\text{d} (y_i - \\hat{y_i})^2}{\\text{d} \\hat{y_i}} = -2 \\cdot (y_i - \\hat{y_i})\n",
        "$$\n",
        "\n",
        "$$\\large\n",
        "\\frac{\\text{d} \\hat{y_i}}{\\text{d} a} = x_i\n",
        "$$\n",
        "\n",
        "$$\\large\n",
        "\\frac{\\text{d} \\hat{y_i}}{\\text{d} b} = 1\n",
        "$$\n",
        "\n",
        "Łącząc powyższe wyniki dostaniemy:\n",
        "\n",
        "$$\\large\n",
        "\\frac{\\text{d} MSE}{\\text{d} a} = \\frac{-2}{N} \\sum_{i}^{N} (y_i - \\hat{y_i}) \\cdot {x_i}\n",
        "$$\n",
        "\n",
        "$$\\large\n",
        "\\frac{\\text{d} MSE}{\\text{d} b} = \\frac{-2}{N} \\sum_{i}^{N} (y_i - \\hat{y_i})\n",
        "$$\n",
        "\n",
        "Aktualizacja parametrów wygląda tak:\n",
        "\n",
        "$$\\large\n",
        "a' = a - \\alpha * \\left( \\frac{-2}{N} \\sum_{i=1}^N (y_i - \\hat{y}_i) \\cdot x_i \\right)\n",
        "$$\n",
        "$$\\large\n",
        "b' = b - \\alpha * \\left( \\frac{-2}{N} \\sum_{i=1}^N (y_i - \\hat{y}_i) \\right)\n",
        "$$\n",
        "\n",
        "Liczymy więc pochodną funkcji kosztu, a potem za pomocą reguły łańcuchowej \"cofamy się\", dochodząc do tego, jak każdy z parametrów wpływa na błąd i w jaki sposób powinniśmy go zmienić. Nazywa się to **propagacją wsteczną (backpropagation)** i jest podstawowym mechanizmem umożliwiającym naukę sieci neuronowych za pomocą spadku wzdłuż gradientu. Więcej możesz o tym przeczytać [tutaj](https://cs231n.github.io/optimization-2/)."
      ]
    },
    {
      "cell_type": "markdown",
      "metadata": {
        "id": "3ZE9D1PdgY7X"
      },
      "source": [
        "\n",
        "#### Zadanie 2 (1.0 punkt)\n",
        "\n",
        "Zaimplementuj funkcję realizującą jedną epokę treningową. Zauważ, że `x` oraz `y` są wektorami. Oblicz predykcję przy aktualnych parametrach oraz zaktualizuj je zgodnie z powyższymi wzorami."
      ]
    },
    {
      "cell_type": "code",
      "execution_count": 31,
      "metadata": {
        "id": "4qbdWOSULAsp"
      },
      "outputs": [],
      "source": [
        "def optimize(\n",
        "    x: np.ndarray, y: np.ndarray, a: float, b: float, learning_rate: float = 0.1):\n",
        "    y_hat = a * x + b\n",
        "    errors = y - y_hat\n",
        "    new_a = a + learning_rate * -2 * (errors * (-x)).mean()\n",
        "    new_b = b + learning_rate * -2 * (errors * (-1)).mean()\n",
        "    return new_a, new_b\n"
      ]
    },
    {
      "cell_type": "code",
      "execution_count": 32,
      "metadata": {
        "id": "YmB1WyudgY7Y",
        "colab": {
          "base_uri": "https://localhost:8080/"
        },
        "outputId": "2017152d-6f1a-44dc-abae-13b7ddf5f96a"
      },
      "outputs": [
        {
          "output_type": "stream",
          "name": "stdout",
          "text": [
            "step 0 loss:  0.1330225119404028\n",
            "step 100 loss:  0.012673197778527677\n",
            "step 200 loss:  0.010257153540857817\n",
            "step 300 loss:  0.0100948037549359\n",
            "step 400 loss:  0.010083894412889118\n",
            "step 500 loss:  0.010083161342973332\n",
            "step 600 loss:  0.010083112083219709\n",
            "step 700 loss:  0.010083108773135261\n",
            "step 800 loss:  0.010083108550709076\n",
            "step 900 loss:  0.01008310853576281\n",
            "final loss: 0.010083108534760455\n"
          ]
        }
      ],
      "source": [
        "for i in range(1000):\n",
        "    loss = mse(y, a * x + b)\n",
        "    a, b = optimize(x, y, a, b)\n",
        "    if i % 100 == 0:\n",
        "        print(f\"step {i} loss: \", loss)\n",
        "\n",
        "print(\"final loss:\", loss)"
      ]
    },
    {
      "cell_type": "code",
      "execution_count": 33,
      "metadata": {
        "id": "xOgRcPC1LAsq",
        "scrolled": false,
        "colab": {
          "base_uri": "https://localhost:8080/",
          "height": 447
        },
        "outputId": "36e49510-c346-4808-dc39-f70461189713"
      },
      "outputs": [
        {
          "output_type": "execute_result",
          "data": {
            "text/plain": [
              "[<matplotlib.lines.Line2D at 0x7a46c56e6710>]"
            ]
          },
          "metadata": {},
          "execution_count": 33
        },
        {
          "output_type": "display_data",
          "data": {
            "text/plain": [
              "<Figure size 640x480 with 1 Axes>"
            ],
            "image/png": "[encoded data removed]"
          },
          "metadata": {}
        }
      ],
      "source": [
        "plt.scatter(x, y)\n",
        "plt.plot(x, a * x + b, color=\"g\", linewidth=4)"
      ]
    },
    {
      "cell_type": "markdown",
      "metadata": {
        "id": "vOr2fWYpLAsq"
      },
      "source": [
        "Udało ci się wytrenować swoją pierwszą sieć neuronową. Czemu? Otóż neuron to po prostu wektor parametrów, a zwykle robimy iloczyn skalarny tych parametrów z wejściem. Dodatkowo na wyjście nakłada się **funkcję aktywacji (activation function)**, która przekształca wyjście. Tutaj takiej nie było, a właściwie była to po prostu funkcja identyczności.\n",
        "\n",
        "Oczywiście w praktyce korzystamy z odpowiedniego frameworka, który w szczególności:\n",
        "- ułatwia budowanie sieci, np. ma gotowe klasy dla warstw neuronów\n",
        "- ma zaimplementowane funkcje kosztu oraz ich pochodne\n",
        "- sam różniczkuje ze względu na odpowiednie parametry i aktualizuje je odpowiednio podczas treningu\n"
      ]
    },
    {
      "cell_type": "markdown",
      "metadata": {
        "id": "NJBYJabuLAsr"
      },
      "source": [
        "## Wprowadzenie do PyTorcha"
      ]
    },
    {
      "cell_type": "markdown",
      "metadata": {
        "id": "EB-99XqhLAsr"
      },
      "source": [
        "PyTorch to w gruncie rzeczy narzędzie do algebry liniowej z [automatycznym rożniczkowaniem](https://pytorch.org/tutorials/beginner/blitz/autograd_tutorial.html), z możliwością przyspieszenia obliczeń z pomocą GPU. Na tych fundamentach zbudowany jest pełny framework do uczenia głębokiego. Można spotkać się ze stwierdzenie, że PyTorch to NumPy + GPU + opcjonalne różniczkowanie, co jest całkiem celne. Plus można łatwo debugować printem :)\n",
        "\n",
        "PyTorch używa dynamicznego grafu obliczeń, który sami definiujemy w kodzie. Takie podejście jest bardzo wygodne, elastyczne i pozwala na łatwe eksperymentowanie. Odbywa się to potencjalnie kosztem wydajności, ponieważ pozostawia kwestię optymalizacji programiście. Więcej na ten temat dla zainteresowanych na końcu laboratorium.\n",
        "\n",
        "Samo API PyTorcha bardzo przypomina Numpy'a, a podstawowym obiektem jest `Tensor`, klasa reprezentująca tensory dowolnego wymiaru. Dodatkowo niektóre tensory będą miały automatycznie obliczony gradient. Co ważne, tensor jest na pewnym urządzeniu, CPU lub GPU, a przenosić między nimi trzeba explicite.\n",
        "\n",
        "Najważniejsze moduły:\n",
        "- `torch` - podstawowe klasy oraz funkcje, np. `Tensor`, `from_numpy()`\n",
        "- `torch.nn` - klasy związane z sieciami neuronowymi, np. `Linear`, `Sigmoid`\n",
        "- `torch.optim` - wszystko związane z optymalizacją, głównie spadkiem wzdłuż gradientu"
      ]
    },
    {
      "cell_type": "code",
      "execution_count": 34,
      "metadata": {
        "id": "FwuIt8S-LAss"
      },
      "outputs": [],
      "source": [
        "import torch\n",
        "import torch.nn as nn\n",
        "import torch.optim as optim"
      ]
    },
    {
      "cell_type": "code",
      "execution_count": 35,
      "metadata": {
        "id": "bfCiUFXULAss",
        "colab": {
          "base_uri": "https://localhost:8080/"
        },
        "outputId": "2b835b8b-7c17-4748-d031-cd4821163ad0"
      },
      "outputs": [
        {
          "output_type": "stream",
          "name": "stdout",
          "text": [
            "tensor([1.1291, 1.6071, 1.1497, 1.0039, 1.8407, 1.6293, 1.3023, 1.1813, 1.5202,\n",
            "        1.4099])\n",
            "tensor([0.1291, 0.6071, 0.1497, 0.0039, 0.8407, 0.6293, 0.3023, 0.1813, 0.5202,\n",
            "        0.4099])\n",
            "tensor(3.7733)\n"
          ]
        }
      ],
      "source": [
        "ones = torch.ones(10)\n",
        "noise = torch.ones(10) * torch.rand(10)\n",
        "\n",
        "# elementwise sum\n",
        "print(ones + noise)\n",
        "\n",
        "# elementwise multiplication\n",
        "print(ones * noise)\n",
        "\n",
        "# dot product\n",
        "print(ones @ noise)"
      ]
    },
    {
      "cell_type": "code",
      "execution_count": 36,
      "metadata": {
        "id": "ynNd_kD0LAst"
      },
      "outputs": [],
      "source": [
        "# beware - shares memory with original Numpy array!\n",
        "# very fast, but modifications are visible to original variable\n",
        "x = torch.from_numpy(x)\n",
        "y = torch.from_numpy(y)"
      ]
    },
    {
      "cell_type": "markdown",
      "metadata": {
        "id": "W9kkxczELAsu"
      },
      "source": [
        "Jeżeli dla stworzonych przez nas tensorów chcemy śledzić operacje i obliczać gradient, to musimy oznaczyć `requires_grad=True`."
      ]
    },
    {
      "cell_type": "code",
      "execution_count": 37,
      "metadata": {
        "id": "8HtZL-KfLAsu",
        "colab": {
          "base_uri": "https://localhost:8080/"
        },
        "outputId": "ab406136-b97c-4f57-f440-ce14a8dfcbaa"
      },
      "outputs": [
        {
          "output_type": "execute_result",
          "data": {
            "text/plain": [
              "(tensor([0.6799], requires_grad=True), tensor([0.5670], requires_grad=True))"
            ]
          },
          "metadata": {},
          "execution_count": 37
        }
      ],
      "source": [
        "a = torch.rand(1, requires_grad=True)\n",
        "b = torch.rand(1, requires_grad=True)\n",
        "a, b"
      ]
    },
    {
      "cell_type": "markdown",
      "metadata": {
        "id": "Nl1guWZ_LAsv"
      },
      "source": [
        "PyTorch zawiera większość powszechnie używanych funkcji kosztu, np. MSE. Mogą być one używane na 2 sposoby, z czego pierwszy jest popularniejszy:\n",
        "- jako klasy wywoływalne z modułu `torch.nn`\n",
        "- jako funkcje z modułu `torch.nn.functional`\n",
        "\n",
        "Po wykonaniu poniższego kodu widzimy, że zwraca on nam tensor z dodatkowymi atrybutami. Co ważne, jest to skalar (0-wymiarowy tensor), bo potrzebujemy zwyczajnej liczby do obliczania propagacji wstecznych (pochodnych czątkowych)."
      ]
    },
    {
      "cell_type": "code",
      "execution_count": 38,
      "metadata": {
        "id": "SI8TdiFIgY7c",
        "colab": {
          "base_uri": "https://localhost:8080/"
        },
        "outputId": "7fa75d5f-b726-4ae8-dafa-74744f04b08f"
      },
      "outputs": [
        {
          "output_type": "execute_result",
          "data": {
            "text/plain": [
              "tensor(0.1780, dtype=torch.float64, grad_fn=<MseLossBackward0>)"
            ]
          },
          "metadata": {},
          "execution_count": 38
        }
      ],
      "source": [
        "mse = nn.MSELoss()\n",
        "mse(y, a * x + b)"
      ]
    },
    {
      "cell_type": "markdown",
      "metadata": {
        "id": "vS35r49nLAsw"
      },
      "source": [
        "Atrybutu `grad_fn` nie używamy wprost, bo korzysta z niego w środku PyTorch, ale widać, że tensor jest \"świadomy\", że liczy się na nim pochodną. Możemy natomiast skorzystać z atrybutu `grad`, który zawiera faktyczny gradient. Zanim go jednak dostaniemy, to trzeba powiedzieć PyTorchowi, żeby policzył gradient. Służy do tego metoda `.backward()`, wywoływana na obiekcie zwracanym przez funkcję kosztu."
      ]
    },
    {
      "cell_type": "code",
      "execution_count": 39,
      "metadata": {
        "id": "Qb7l6Xg1LAsx"
      },
      "outputs": [],
      "source": [
        "loss = mse(y, a * x + b)\n",
        "loss.backward()"
      ]
    },
    {
      "cell_type": "code",
      "execution_count": 40,
      "metadata": {
        "id": "6LfQbLVoLAsx",
        "colab": {
          "base_uri": "https://localhost:8080/"
        },
        "outputId": "ec54c845-1aa7-402e-f2d6-bafa754c3045"
      },
      "outputs": [
        {
          "output_type": "stream",
          "name": "stdout",
          "text": [
            "tensor([0.3516])\n"
          ]
        }
      ],
      "source": [
        "print(a.grad)"
      ]
    },
    {
      "cell_type": "markdown",
      "metadata": {
        "id": "Kdf1iweELAsy"
      },
      "source": [
        "Ważne jest, że PyTorch nie liczy za każdym razem nowego gradientu, tylko dodaje go do istniejącego, czyli go akumuluje. Jest to przydatne w niektórych sieciach neuronowych, ale zazwyczaj trzeba go zerować. Jeżeli tego nie zrobimy, to dostaniemy coraz większe gradienty.\n",
        "\n",
        "Do zerowania służy metoda `.zero_()`. W PyTorchu wszystkie metody modyfikujące tensor w miejscu mają `_` na końcu nazwy. Jest to dość niskopoziomowa operacja dla pojedynczych tensorów - zobaczymy za chwilę, jak to robić łatwiej dla całej sieci."
      ]
    },
    {
      "cell_type": "code",
      "execution_count": 41,
      "metadata": {
        "id": "DiCQZKJsLAsy",
        "colab": {
          "base_uri": "https://localhost:8080/"
        },
        "outputId": "308402b6-2a26-4f45-8c15-ec8314001f47"
      },
      "outputs": [
        {
          "output_type": "execute_result",
          "data": {
            "text/plain": [
              "tensor([0.7032])"
            ]
          },
          "metadata": {},
          "execution_count": 41
        }
      ],
      "source": [
        "loss = mse(y, a * x + b)\n",
        "loss.backward()\n",
        "a.grad"
      ]
    },
    {
      "cell_type": "markdown",
      "metadata": {
        "id": "xNC3Ag8uLAsz"
      },
      "source": [
        "Zobaczmy, jak wyglądałaby regresja liniowa, ale napisana w PyTorchu. Jest to oczywiście bardzo niskopoziomowa implementacja - za chwilę zobaczymy, jak to wygląda w praktyce."
      ]
    },
    {
      "cell_type": "code",
      "execution_count": 42,
      "metadata": {
        "id": "AKnxyeboLAsz",
        "colab": {
          "base_uri": "https://localhost:8080/"
        },
        "outputId": "e3df9a45-36e1-4617-f5ac-700783d1f914"
      },
      "outputs": [
        {
          "output_type": "stream",
          "name": "stdout",
          "text": [
            "step 0 loss:  tensor(0.1780, dtype=torch.float64, grad_fn=<MseLossBackward0>)\n",
            "step 100 loss:  tensor(0.0112, dtype=torch.float64, grad_fn=<MseLossBackward0>)\n",
            "step 200 loss:  tensor(0.0102, dtype=torch.float64, grad_fn=<MseLossBackward0>)\n",
            "step 300 loss:  tensor(0.0101, dtype=torch.float64, grad_fn=<MseLossBackward0>)\n",
            "step 400 loss:  tensor(0.0101, dtype=torch.float64, grad_fn=<MseLossBackward0>)\n",
            "step 500 loss:  tensor(0.0101, dtype=torch.float64, grad_fn=<MseLossBackward0>)\n",
            "step 600 loss:  tensor(0.0101, dtype=torch.float64, grad_fn=<MseLossBackward0>)\n",
            "step 700 loss:  tensor(0.0101, dtype=torch.float64, grad_fn=<MseLossBackward0>)\n",
            "step 800 loss:  tensor(0.0101, dtype=torch.float64, grad_fn=<MseLossBackward0>)\n",
            "step 900 loss:  tensor(0.0101, dtype=torch.float64, grad_fn=<MseLossBackward0>)\n",
            "final loss: tensor(0.0101, dtype=torch.float64, grad_fn=<MseLossBackward0>)\n"
          ]
        }
      ],
      "source": [
        "learning_rate = 0.1\n",
        "for i in range(1000):\n",
        "    loss = mse(y, a * x + b)\n",
        "\n",
        "    # compute gradients\n",
        "    loss.backward()\n",
        "\n",
        "    # update parameters\n",
        "    a.data -= learning_rate * a.grad\n",
        "    b.data -= learning_rate * b.grad\n",
        "\n",
        "    # zero gradients\n",
        "    a.grad.data.zero_()\n",
        "    b.grad.data.zero_()\n",
        "\n",
        "    if i % 100 == 0:\n",
        "        print(f\"step {i} loss: \", loss)\n",
        "\n",
        "print(\"final loss:\", loss)"
      ]
    },
    {
      "cell_type": "markdown",
      "metadata": {
        "id": "2DXNVhshmmI-"
      },
      "source": [
        "Trening modeli w PyTorchu jest dosyć schematyczny i najczęściej rozdziela się go na kilka bloków, dających razem **pętlę uczącą (training loop)**, powtarzaną w każdej epoce:\n",
        "1. Forward pass - obliczenie predykcji sieci\n",
        "2. Loss calculation\n",
        "3. Backpropagation - obliczenie pochodnych oraz zerowanie gradientów\n",
        "4. Optimalization - aktualizacja wag\n",
        "5. Other - ewaluacja na zbiorze walidacyjnym, logging etc."
      ]
    },
    {
      "cell_type": "code",
      "execution_count": 43,
      "metadata": {
        "id": "2etpw7TNLAs0",
        "scrolled": true,
        "colab": {
          "base_uri": "https://localhost:8080/"
        },
        "outputId": "90617789-59c8-49b3-ceda-3c7ff3f96b1f"
      },
      "outputs": [
        {
          "output_type": "stream",
          "name": "stdout",
          "text": [
            "step 0 loss: 0.2931\n",
            "step 100 loss: 0.0128\n",
            "step 200 loss: 0.0103\n",
            "step 300 loss: 0.0101\n",
            "step 400 loss: 0.0101\n",
            "step 500 loss: 0.0101\n",
            "step 600 loss: 0.0101\n",
            "step 700 loss: 0.0101\n",
            "step 800 loss: 0.0101\n",
            "step 900 loss: 0.0101\n",
            "final loss: tensor(0.0101, dtype=torch.float64, grad_fn=<MseLossBackward0>)\n"
          ]
        }
      ],
      "source": [
        "# initialization\n",
        "learning_rate = 0.1\n",
        "a = torch.rand(1, requires_grad=True)\n",
        "b = torch.rand(1, requires_grad=True)\n",
        "optimizer = torch.optim.SGD([a, b], lr=learning_rate)\n",
        "best_loss = float(\"inf\")\n",
        "\n",
        "# training loop in each epoch\n",
        "for i in range(1000):\n",
        "    # forward pass\n",
        "    y_hat = a * x + b\n",
        "\n",
        "    # loss calculation\n",
        "    loss = mse(y, y_hat)\n",
        "\n",
        "    # backpropagation\n",
        "    loss.backward()\n",
        "\n",
        "    # optimization\n",
        "    optimizer.step()\n",
        "    optimizer.zero_grad()  # zeroes all gradients - very convenient!\n",
        "\n",
        "    if i % 100 == 0:\n",
        "        if loss < best_loss:\n",
        "            best_model = (a.clone(), b.clone())\n",
        "            best_loss = loss\n",
        "        print(f\"step {i} loss: {loss.item():.4f}\")\n",
        "\n",
        "print(\"final loss:\", loss)"
      ]
    },
    {
      "cell_type": "markdown",
      "metadata": {
        "id": "1NdZbVrsgY7g"
      },
      "source": [
        "Przejdziemy teraz do budowy sieci neuronowej do klasyfikacji. Typowo implementuje się ją po prostu jako sieć dla regresji, ale zwracającą tyle wyników, ile mamy klas, a potem aplikuje się na tym funkcję sigmoidalną (2 klasy) lub softmax (>2 klasy). W przypadku klasyfikacji binarnej zwraca się czasem tylko 1 wartość, przepuszczaną przez sigmoidę - wtedy wyjście z sieci to prawdopodobieństwo klasy pozytywnej.\n",
        "\n",
        "Funkcją kosztu zwykle jest **entropia krzyżowa (cross-entropy)**, stosowana też w klasycznej regresji logistycznej. Co ważne, sieci neuronowe, nawet tak proste, uczą się szybciej i stabilniej, gdy dane na wejściu (a przynajmniej zmienne numeryczne) są **ustandaryzowane (standardized)**. Operacja ta polega na odjęciu średniej i podzieleniu przez odchylenie standardowe (tzw. *Z-score transformation*).\n",
        "\n",
        "**Uwaga - PyTorch wymaga tensora klas będącego liczbami zmiennoprzecinkowymi!**"
      ]
    },
    {
      "cell_type": "markdown",
      "metadata": {
        "id": "gcHWMKmwgY7h"
      },
      "source": [
        "## Zbiór danych"
      ]
    },
    {
      "cell_type": "markdown",
      "metadata": {
        "id": "3jcO9RJWgY7r"
      },
      "source": [
        "Na tym laboratorium wykorzystamy zbiór [Adult Census](https://archive.ics.uci.edu/ml/datasets/adult). Dotyczy on przewidywania na podstawie danych demograficznych, czy dany człowiek zarabia powyżej 50 tysięcy dolarów rocznie, czy też mniej. Jest to cenna informacja np. przy planowaniu kampanii marketingowych. Jak możesz się domyślić, zbiór pochodzi z czasów, kiedy inflacja była dużo niższa :)\n",
        "\n",
        "Poniżej znajduje się kod do ściągnięcia i preprocessingu zbioru. Nie musisz go dokładnie analizować."
      ]
    },
    {
      "cell_type": "code",
      "execution_count": 45,
      "metadata": {
        "id": "4DNsaZAnLAs0",
        "scrolled": true,
        "colab": {
          "base_uri": "https://localhost:8080/"
        },
        "outputId": "b722d2f2-d738-406e-a325-b3a9d5397ca1"
      },
      "outputs": [
        {
          "output_type": "stream",
          "name": "stdout",
          "text": [
            "--2023-11-24 15:00:00--  https://archive.ics.uci.edu/ml/machine-learning-databases/adult/adult.data\n",
            "Resolving archive.ics.uci.edu (archive.ics.uci.edu)... 128.195.10.252\n",
            "Connecting to archive.ics.uci.edu (archive.ics.uci.edu)|128.195.10.252|:443... connected.\n",
            "HTTP request sent, awaiting response... 200 OK\n",
            "Length: unspecified\n",
            "Saving to: ‘adult.data’\n",
            "\n",
            "\radult.data              [<=>                 ]       0  --.-KB/s               \radult.data              [ <=>                ]   3.79M  --.-KB/s    in 0.1s    \n",
            "\n",
            "2023-11-24 15:00:00 (28.7 MB/s) - ‘adult.data’ saved [3974305]\n",
            "\n"
          ]
        }
      ],
      "source": [
        "!wget https://archive.ics.uci.edu/ml/machine-learning-databases/adult/adult.data"
      ]
    },
    {
      "cell_type": "code",
      "execution_count": 46,
      "metadata": {
        "id": "imQC8FyWgY7s",
        "colab": {
          "base_uri": "https://localhost:8080/"
        },
        "outputId": "3ca22717-95cf-421c-ec98-190b27b930bf"
      },
      "outputs": [
        {
          "output_type": "execute_result",
          "data": {
            "text/plain": [
              "array([' <=50K', ' >50K'], dtype=object)"
            ]
          },
          "metadata": {},
          "execution_count": 46
        }
      ],
      "source": [
        "import pandas as pd\n",
        "\n",
        "\n",
        "columns = [\n",
        "    \"age\",\n",
        "    \"workclass\",\n",
        "    \"fnlwgt\",\n",
        "    \"education\",\n",
        "    \"education-num\",\n",
        "    \"marital-status\",\n",
        "    \"occupation\",\n",
        "    \"relationship\",\n",
        "    \"race\",\n",
        "    \"sex\",\n",
        "    \"capital-gain\",\n",
        "    \"capital-loss\",\n",
        "    \"hours-per-week\",\n",
        "    \"native-country\",\n",
        "    \"wage\"\n",
        "]\n",
        "\n",
        "\"\"\"\n",
        "age: continuous.\n",
        "workclass: Private, Self-emp-not-inc, Self-emp-inc, Federal-gov, Local-gov, State-gov, Without-pay, Never-worked.\n",
        "fnlwgt: continuous.\n",
        "education: Bachelors, Some-college, 11th, HS-grad, Prof-school, Assoc-acdm, Assoc-voc, 9th, 7th-8th, 12th, Masters, 1st-4th, 10th, Doctorate, 5th-6th, Preschool.\n",
        "education-num: continuous.\n",
        "marital-status: Married-civ-spouse, Divorced, Never-married, Separated, Widowed, Married-spouse-absent, Married-AF-spouse.\n",
        "occupation: Tech-support, Craft-repair, Other-service, Sales, Exec-managerial, Prof-specialty, Handlers-cleaners, Machine-op-inspct, Adm-clerical, Farming-fishing, Transport-moving, Priv-house-serv, Protective-serv, Armed-Forces.\n",
        "relationship: Wife, Own-child, Husband, Not-in-family, Other-relative, Unmarried.\n",
        "race: White, Asian-Pac-Islander, Amer-Indian-Eskimo, Other, Black.\n",
        "sex: Female, Male.\n",
        "capital-gain: continuous.\n",
        "capital-loss: continuous.\n",
        "hours-per-week: continuous.\n",
        "native-country: United-States, Cambodia, England, Puerto-Rico, Canada, Germany, Outlying-US(Guam-USVI-etc), India, Japan, Greece, South, China, Cuba, Iran, Honduras, Philippines, Italy, Poland, Jamaica, Vietnam, Mexico, Portugal, Ireland, France, Dominican-Republic, Laos, Ecuador, Taiwan, Haiti, Columbia, Hungary, Guatemala, Nicaragua, Scotland, Thailand, Yugoslavia, El-Salvador, Trinadad&Tobago, Peru, Hong, Holand-Netherlands.\n",
        "\"\"\"\n",
        "\n",
        "df = pd.read_csv(\"adult.data\", header=None, names=columns)\n",
        "df.wage.unique()"
      ]
    },
    {
      "cell_type": "code",
      "execution_count": 47,
      "metadata": {
        "id": "jw_QkDrOgY7s"
      },
      "outputs": [],
      "source": [
        "# attribution: https://www.kaggle.com/code/royshih23/topic7-classification-in-python\n",
        "df['education'].replace('Preschool', 'dropout',inplace=True)\n",
        "df['education'].replace('10th', 'dropout',inplace=True)\n",
        "df['education'].replace('11th', 'dropout',inplace=True)\n",
        "df['education'].replace('12th', 'dropout',inplace=True)\n",
        "df['education'].replace('1st-4th', 'dropout',inplace=True)\n",
        "df['education'].replace('5th-6th', 'dropout',inplace=True)\n",
        "df['education'].replace('7th-8th', 'dropout',inplace=True)\n",
        "df['education'].replace('9th', 'dropout',inplace=True)\n",
        "df['education'].replace('HS-Grad', 'HighGrad',inplace=True)\n",
        "df['education'].replace('HS-grad', 'HighGrad',inplace=True)\n",
        "df['education'].replace('Some-college', 'CommunityCollege',inplace=True)\n",
        "df['education'].replace('Assoc-acdm', 'CommunityCollege',inplace=True)\n",
        "df['education'].replace('Assoc-voc', 'CommunityCollege',inplace=True)\n",
        "df['education'].replace('Bachelors', 'Bachelors',inplace=True)\n",
        "df['education'].replace('Masters', 'Masters',inplace=True)\n",
        "df['education'].replace('Prof-school', 'Masters',inplace=True)\n",
        "df['education'].replace('Doctorate', 'Doctorate',inplace=True)\n",
        "\n",
        "df['marital-status'].replace('Never-married', 'NotMarried',inplace=True)\n",
        "df['marital-status'].replace(['Married-AF-spouse'], 'Married',inplace=True)\n",
        "df['marital-status'].replace(['Married-civ-spouse'], 'Married',inplace=True)\n",
        "df['marital-status'].replace(['Married-spouse-absent'], 'NotMarried',inplace=True)\n",
        "df['marital-status'].replace(['Separated'], 'Separated',inplace=True)\n",
        "df['marital-status'].replace(['Divorced'], 'Separated',inplace=True)\n",
        "df['marital-status'].replace(['Widowed'], 'Widowed',inplace=True)"
      ]
    },
    {
      "cell_type": "code",
      "execution_count": 48,
      "metadata": {
        "id": "LiOxs_6mLAs1",
        "scrolled": true,
        "colab": {
          "base_uri": "https://localhost:8080/"
        },
        "outputId": "e38c49c2-4f5c-4e81-e6e7-f6b24793d171"
      },
      "outputs": [
        {
          "output_type": "stream",
          "name": "stderr",
          "text": [
            "/usr/local/lib/python3.10/dist-packages/sklearn/preprocessing/_encoders.py:868: FutureWarning: `sparse` was renamed to `sparse_output` in version 1.2 and will be removed in 1.4. `sparse_output` is ignored unless you leave `sparse` to its default value.\n",
            "  warnings.warn(\n"
          ]
        },
        {
          "output_type": "execute_result",
          "data": {
            "text/plain": [
              "((20838, 108), (20838,))"
            ]
          },
          "metadata": {},
          "execution_count": 48
        }
      ],
      "source": [
        "from sklearn.model_selection import train_test_split\n",
        "from sklearn.preprocessing import MinMaxScaler, OneHotEncoder, StandardScaler\n",
        "\n",
        "\n",
        "X = df.copy()\n",
        "y = (X.pop(\"wage\") == ' >50K').astype(int).values\n",
        "\n",
        "train_valid_size = 0.2\n",
        "\n",
        "X_train, X_test, y_train, y_test = train_test_split(\n",
        "    X, y,\n",
        "    test_size=train_valid_size,\n",
        "    random_state=0,\n",
        "    shuffle=True,\n",
        "    stratify=y\n",
        ")\n",
        "X_train, X_valid, y_train, y_valid = train_test_split(\n",
        "    X_train, y_train,\n",
        "    test_size=train_valid_size,\n",
        "    random_state=0,\n",
        "    shuffle=True,\n",
        "    stratify=y_train\n",
        ")\n",
        "\n",
        "continuous_cols = ['age', 'fnlwgt', 'education-num', 'capital-gain', 'capital-loss', 'hours-per-week']\n",
        "continuous_X_train = X_train[continuous_cols]\n",
        "categorical_X_train = X_train.loc[:, ~X_train.columns.isin(continuous_cols)]\n",
        "\n",
        "continuous_X_valid = X_valid[continuous_cols]\n",
        "categorical_X_valid = X_valid.loc[:, ~X_valid.columns.isin(continuous_cols)]\n",
        "\n",
        "continuous_X_test = X_test[continuous_cols]\n",
        "categorical_X_test = X_test.loc[:, ~X_test.columns.isin(continuous_cols)]\n",
        "\n",
        "categorical_encoder = OneHotEncoder(sparse=False, handle_unknown='ignore')\n",
        "continuous_scaler = StandardScaler() #MinMaxScaler(feature_range=(-1, 1))\n",
        "\n",
        "categorical_encoder.fit(categorical_X_train)\n",
        "continuous_scaler.fit(continuous_X_train)\n",
        "\n",
        "continuous_X_train = continuous_scaler.transform(continuous_X_train)\n",
        "continuous_X_valid = continuous_scaler.transform(continuous_X_valid)\n",
        "continuous_X_test = continuous_scaler.transform(continuous_X_test)\n",
        "\n",
        "categorical_X_train = categorical_encoder.transform(categorical_X_train)\n",
        "categorical_X_valid = categorical_encoder.transform(categorical_X_valid)\n",
        "categorical_X_test = categorical_encoder.transform(categorical_X_test)\n",
        "\n",
        "X_train = np.concatenate([continuous_X_train, categorical_X_train], axis=1)\n",
        "X_valid = np.concatenate([continuous_X_valid, categorical_X_valid], axis=1)\n",
        "X_test = np.concatenate([continuous_X_test, categorical_X_test], axis=1)\n",
        "\n",
        "X_train.shape, y_train.shape"
      ]
    },
    {
      "cell_type": "markdown",
      "metadata": {
        "id": "DViXwel1gY7t"
      },
      "source": [
        "Uwaga co do typów - PyTorchu wszystko w sieci neuronowej musi być typu `float32`. W szczególności trzeba uważać na konwersje z Numpy'a, który używa domyślnie typu `float64`. Może ci się przydać metoda `.float()`.\n",
        "\n",
        "Uwaga co do kształtów wyjścia - wejścia do `nn.BCELoss` muszą być tego samego kształtu. Może ci się przydać metoda `.squeeze()` lub `.unsqueeze()`."
      ]
    },
    {
      "cell_type": "code",
      "execution_count": 49,
      "metadata": {
        "id": "qfRA3xEoLAs1"
      },
      "outputs": [],
      "source": [
        "X_train = torch.from_numpy(X_train).float()\n",
        "y_train = torch.from_numpy(y_train).float().unsqueeze(-1)\n",
        "\n",
        "X_valid = torch.from_numpy(X_valid).float()\n",
        "y_valid = torch.from_numpy(y_valid).float().unsqueeze(-1)\n",
        "\n",
        "X_test = torch.from_numpy(X_test).float()\n",
        "y_test = torch.from_numpy(y_test).float().unsqueeze(-1)"
      ]
    },
    {
      "cell_type": "markdown",
      "metadata": {
        "id": "6jFSLRQggY7u"
      },
      "source": [
        "Podobnie jak w laboratorium 2, mamy tu do czynienia z klasyfikacją niezbalansowaną:"
      ]
    },
    {
      "cell_type": "code",
      "execution_count": 50,
      "metadata": {
        "id": "O7bAmDJhgY7u",
        "colab": {
          "base_uri": "https://localhost:8080/",
          "height": 452
        },
        "outputId": "94701673-43fd-463e-e924-9aaa0e39fe7f"
      },
      "outputs": [
        {
          "output_type": "display_data",
          "data": {
            "text/plain": [
              "<Figure size 640x480 with 1 Axes>"
            ],
            "image/png": "[encoded data removed]"
          },
          "metadata": {}
        }
      ],
      "source": [
        "import matplotlib.pyplot as plt\n",
        "\n",
        "y_pos_perc = 100 * y_train.sum().item() / len(y_train)\n",
        "y_neg_perc = 100 - y_pos_perc\n",
        "\n",
        "plt.title(\"Class percentages\")\n",
        "plt.bar([\"<50k\", \">=50k\"], [y_neg_perc, y_pos_perc])\n",
        "plt.show()"
      ]
    },
    {
      "cell_type": "markdown",
      "metadata": {
        "id": "gygKjuq3gY7v"
      },
      "source": [
        "W związku z powyższym będziemy używać odpowiednich metryk, czyli AUROC, precyzji i czułości."
      ]
    },
    {
      "cell_type": "markdown",
      "metadata": {
        "id": "XLexWff-LAs0"
      },
      "source": [
        "#### Zadanie 3 (1.0 punkt)\n",
        "\n",
        "Zaimplementuj regresję logistyczną dla tego zbioru danych, używając PyTorcha. Dane wejściowe zostały dla ciebie przygotowane w komórkach poniżej.\n",
        "\n",
        "Sama sieć składa się z 2 elementów:\n",
        "- warstwa liniowa `nn.Linear`, przekształcająca wektor wejściowy na 1 wyjście - logit\n",
        "- aktywacja sigmoidalna `nn.Sigmoid`, przekształcająca logit na prawdopodobieństwo klasy pozytywnej\n",
        "\n",
        "Użyj binarnej entropii krzyżowej `nn.BCELoss` jako funkcji kosztu. Użyj optymalizatora SGD ze stałą uczącą `1e-3`. Trenuj przez 3000 epok. Pamiętaj, aby przekazać do optymalizatora `torch.optim.SGD` parametry sieci (metoda `.parameters()`). Dopisz logowanie kosztu raz na 100 epok."
      ]
    },
    {
      "cell_type": "code",
      "execution_count": 52,
      "metadata": {
        "id": "NbABKz5-LAs2",
        "scrolled": true,
        "colab": {
          "base_uri": "https://localhost:8080/"
        },
        "outputId": "65d50cbc-30ae-4df4-cd51-4ca1fcdc2083"
      },
      "outputs": [
        {
          "output_type": "stream",
          "name": "stdout",
          "text": [
            "Epoch 0 train loss: 0.7467\n",
            "Epoch 100 train loss: 0.7091\n",
            "Epoch 200 train loss: 0.6775\n",
            "Epoch 300 train loss: 0.6508\n",
            "Epoch 400 train loss: 0.6281\n",
            "Epoch 500 train loss: 0.6087\n",
            "Epoch 600 train loss: 0.5919\n",
            "Epoch 700 train loss: 0.5772\n",
            "Epoch 800 train loss: 0.5644\n",
            "Epoch 900 train loss: 0.5530\n",
            "Epoch 1000 train loss: 0.5428\n",
            "Epoch 1100 train loss: 0.5337\n",
            "Epoch 1200 train loss: 0.5254\n",
            "Epoch 1300 train loss: 0.5179\n",
            "Epoch 1400 train loss: 0.5110\n",
            "Epoch 1500 train loss: 0.5047\n",
            "Epoch 1600 train loss: 0.4988\n",
            "Epoch 1700 train loss: 0.4934\n",
            "Epoch 1800 train loss: 0.4883\n",
            "Epoch 1900 train loss: 0.4836\n",
            "Epoch 2000 train loss: 0.4792\n",
            "Epoch 2100 train loss: 0.4750\n",
            "Epoch 2200 train loss: 0.4711\n",
            "Epoch 2300 train loss: 0.4673\n",
            "Epoch 2400 train loss: 0.4638\n",
            "Epoch 2500 train loss: 0.4605\n",
            "Epoch 2600 train loss: 0.4573\n",
            "Epoch 2700 train loss: 0.4543\n",
            "Epoch 2800 train loss: 0.4514\n",
            "Epoch 2900 train loss: 0.4487\n",
            "final loss: 0.4461\n"
          ]
        }
      ],
      "source": [
        "learning_rate = 1e-3\n",
        "model = nn.Linear(X_train.shape[1], 1)\n",
        "activation = nn.Sigmoid()\n",
        "optimizer = torch.optim.SGD(model.parameters(), lr=learning_rate)\n",
        "loss_fn = nn.BCELoss()\n",
        "model.train()\n",
        "for i in range(3000):\n",
        " y_pred = activation(model(X_train))\n",
        " loss = loss_fn(y_pred, y_train)\n",
        " loss.backward()\n",
        " optimizer.step()\n",
        " optimizer.zero_grad()\n",
        " if i % 100 == 0:\n",
        "  print(f\"Epoch {i} train loss: {loss.item():.4f}\")\n",
        "print(f\"final loss: {loss.item():.4f}\")\n"
      ]
    },
    {
      "cell_type": "markdown",
      "metadata": {
        "id": "b6HMfjT9gY7w"
      },
      "source": [
        "Teraz trzeba sprawdzić, jak poszło naszej sieci. W PyTorchu sieć pracuje zawsze w jednym z dwóch trybów: treningowym lub ewaluacyjnym (predykcyjnym). Ten drugi wyłącza niektóre mechanizmy, które są używane tylko podczas treningu, w szczególności regularyzację dropout. Do przełączania służą metody modelu `.train()` i `.eval()`.\n",
        "\n",
        "Dodatkowo podczas liczenia predykcji dobrze jest wyłączyć liczenie gradientów, bo nie będą potrzebne, a oszczędza to czas i pamięć. Używa się do tego menadżera kontekstu `with torch.no_grad():`."
      ]
    },
    {
      "cell_type": "code",
      "execution_count": 53,
      "metadata": {
        "id": "zH37zDX4LAs2",
        "scrolled": true,
        "colab": {
          "base_uri": "https://localhost:8080/"
        },
        "outputId": "97c65317-2546-410a-80c8-67f2774e7a11"
      },
      "outputs": [
        {
          "output_type": "stream",
          "name": "stdout",
          "text": [
            "AUROC: 85.15%\n"
          ]
        }
      ],
      "source": [
        "from sklearn.metrics import precision_recall_curve, precision_recall_fscore_support, roc_auc_score\n",
        "\n",
        "\n",
        "model.eval()\n",
        "with torch.no_grad():\n",
        "    y_score = activation(model(X_test))\n",
        "\n",
        "auroc = roc_auc_score(y_test, y_score)\n",
        "print(f\"AUROC: {100 * auroc:.2f}%\")"
      ]
    },
    {
      "cell_type": "markdown",
      "metadata": {
        "id": "XdbtSljAgY7x"
      },
      "source": [
        "Jest to całkiem dobry wynik, a może być jeszcze lepszy. Sprawdźmy dla pewności jeszcze inne metryki: precyzję, recall oraz F1-score. Dodatkowo narysujemy krzywą precision-recall, czyli jak zmieniają się te metryki w zależności od przyjętego progu (threshold) prawdopodobieństwa, powyżej którego przyjmujemy klasę pozytywną. Taką krzywą należy rysować na zbiorze walidacyjnym, bo później chcemy wykorzystać tę informację do doboru progu, a nie chcemy mieć wycieku danych testowych (data leakage).\n",
        "\n",
        "Poniżej zaimplementowano także funkcję `get_optimal_threshold()`, która sprawdza, dla którego progu uzyskujemy maksymalny F1-score, i zwraca indeks oraz wartość optymalnego progu. Przyda ci się ona w dalszej części laboratorium."
      ]
    },
    {
      "cell_type": "code",
      "execution_count": 54,
      "metadata": {
        "id": "9ShyzRXxgY7y"
      },
      "outputs": [],
      "source": [
        "from sklearn.metrics import PrecisionRecallDisplay\n",
        "\n",
        "\n",
        "def get_optimal_threshold(\n",
        "    precisions: np.array,\n",
        "    recalls: np.array,\n",
        "    thresholds: np.array\n",
        ") -> Tuple[int, float]:\n",
        "\n",
        "    numerator = 2 * precisions * recalls\n",
        "    denominator = precisions + recalls\n",
        "    f1_scores = np.divide(numerator, denominator, out=np.zeros_like(numerator), where=denominator != 0)\n",
        "\n",
        "    optimal_idx = np.argmax(f1_scores)\n",
        "    optimal_threshold = thresholds[optimal_idx]\n",
        "\n",
        "    return optimal_idx, optimal_threshold\n",
        "\n",
        "\n",
        "def plot_precision_recall_curve(y_true, y_pred_score) -> None:\n",
        "    precisions, recalls, thresholds = precision_recall_curve(y_true, y_pred_score)\n",
        "    optimal_idx, optimal_threshold = get_optimal_threshold(precisions, recalls, thresholds)\n",
        "\n",
        "    disp = PrecisionRecallDisplay(precisions, recalls)\n",
        "    disp.plot()\n",
        "    plt.title(f\"Precision-recall curve (opt. thresh.: {optimal_threshold:.4f})\")\n",
        "    plt.axvline(recalls[optimal_idx], color=\"green\", linestyle=\"-.\")\n",
        "    plt.axhline(precisions[optimal_idx], color=\"green\", linestyle=\"-.\")\n",
        "    plt.show()\n"
      ]
    },
    {
      "cell_type": "code",
      "execution_count": 55,
      "metadata": {
        "id": "-vMLqBAqgY7y",
        "colab": {
          "base_uri": "https://localhost:8080/",
          "height": 472
        },
        "outputId": "b89c9b44-a9b1-432f-d26a-6e435cd95629"
      },
      "outputs": [
        {
          "output_type": "display_data",
          "data": {
            "text/plain": [
              "<Figure size 640x480 with 1 Axes>"
            ],
            "image/png": "[encoded data removed]"
          },
          "metadata": {}
        }
      ],
      "source": [
        "model.eval()\n",
        "with torch.no_grad():\n",
        "    y_pred_valid_score = activation(model(X_valid))\n",
        "\n",
        "plot_precision_recall_curve(y_valid, y_pred_valid_score)"
      ]
    },
    {
      "cell_type": "markdown",
      "metadata": {
        "id": "vfQPIUQ_LAs2"
      },
      "source": [
        "Jak widać, chociaż AUROC jest wysokie, to dla optymalnego F1-score recall nie jest zbyt wysoki, a precyzja jest już dość niska. Być może wynik uda się poprawić, używając modelu o większej pojemności - pełnej, głębokiej sieci neuronowej."
      ]
    },
    {
      "cell_type": "markdown",
      "metadata": {
        "id": "ztyjyB4fgY7z"
      },
      "source": [
        "## Sieci neuronowe"
      ]
    },
    {
      "cell_type": "markdown",
      "metadata": {
        "id": "YP298w6Cq7T6"
      },
      "source": [
        "Wszystko zaczęło się od inspirowanych biologią [sztucznych neuronów](https://en.wikipedia.org/wiki/Artificial_neuron), których próbowano użyć do symulacji mózgu. Naukowcy szybko odeszli od tego podejścia (sam problem modelowania okazał się też znacznie trudniejszy, niż sądzono), zamiast tego używając neuronów jako jednostek reprezentującą dowolną funkcję parametryczną $f(x, \\Theta)$. Każdy neuron jest zatem bardzo elastyczny, bo jedyne wymagania to funkcja różniczkowalna, a mamy do tego wektor parametrów $\\Theta$.\n",
        "\n",
        "W praktyce najczęściej można spotkać się z kilkoma rodzinami sieci neuronowych:\n",
        "1. Perceptrony wielowarstwowe (*MultiLayer Perceptron*, MLP) - najbardziej podobne do powyższego opisu, niezbędne do klasyfikacji i regresji\n",
        "2. Konwolucyjne (*Convolutional Neural Networks*, CNNs) - do przetwarzania danych z zależnościami przestrzennymi, np. obrazów czy dźwięku\n",
        "3. Rekurencyjne (*Recurrent Neural Networks*, RNNs) - do przetwarzania danych z zależnościami sekwencyjnymi, np. szeregi czasowe, oraz kiedyś do języka naturalnego\n",
        "4. Transformacyjne (*Transformers*), oparte o mechanizm atencji (*attention*) - do przetwarzania języka naturalnego (NLP), z którego wyparły RNNs, a coraz częściej także do wszelkich innych danych, np. obrazów, dźwięku\n",
        "5. Grafowe (*Graph Neural Networks*, GNNS) - do przetwarzania grafów\n",
        "\n",
        "Na tym laboratorium skupimy się na najprostszej architekturze, czyli MLP. Jest ona powszechnie łączona z wszelkimi innymi architekturami, bo pozwala dokonywać klasyfikacji i regresji. Przykładowo, klasyfikacja obrazów to zwykle CNN + MLP, klasyfikacja tekstów to transformer + MLP, a regresja na grafach to GNN + MLP.\n",
        "\n",
        "Dodatkowo, pomimo prostoty MLP są bardzo potężne - udowodniono, że perceptrony (ich powszechna nazwa) są [uniwersalnym aproksymatorem](https://www.sciencedirect.com/science/article/abs/pii/0893608089900208), będącym w stanie przybliżyć dowolną funkcję z odpowiednio małym błędem, zakładając wystarczającą wielkość warstw sieci. Szczególne ich wersje potrafią nawet [reprezentować drzewa decyzyjne](https://www.youtube.com/watch?v=_okxGdHM5b8).\n",
        "\n",
        "Dla zainteresowanych polecamy [doskonałą książkę \"Dive into Deep Learning\", z implementacjami w PyTorchu](https://d2l.ai/chapter_multilayer-perceptrons/index.html), [klasyczną książkę \"Deep Learning Book\"](https://www.deeplearningbook.org/contents/mlp.html), oraz [ten filmik](https://www.youtube.com/watch?v=BFHrIxKcLjA), jeśli zastanawiałeś/-aś się, czemu używamy deep learning, a nie naprzykład (wide?) learning. (aka. czemu staramy się budować głębokie sieci, a nie płytkie za to szerokie)"
      ]
    },
    {
      "cell_type": "markdown",
      "metadata": {
        "id": "S_ZjoGBU5upj"
      },
      "source": [
        "### Sieci MLP\n",
        "\n",
        "Dla przypomnienia, na wejściu mamy punkty ze zbioru treningowego, czyli $d$-wymiarowe wektory. W klasyfikacji chcemy znaleźć granicę decyzyjną, czyli krzywą, która oddzieli od siebie klasy. W wejściowej przestrzeni może być to trudne, bo chmury punktów z poszczególnych klas mogą być ze sobą dość pomieszane. Pamiętajmy też, że regresja logistyczna jest klasyfikatorem liniowym, czyli w danej przestrzeni potrafi oddzielić punkty tylko linią prostą.\n",
        "\n",
        "Sieć MLP składa się z warstw. Każda z nich dokonuje nieliniowego przekształcenia przestrzeni (można o tym myśleć jak o składaniu przestrzeni jakąś prostą/łamaną), tak, aby w finalnej przestrzeni nasze punkty były możliwie liniowo separowalne. Wtedy ostatnia warstwa z sigmoidą będzie potrafiła je rozdzielić od siebie.\n",
        "\n",
        "![1_x-3NGQv0pRIab8xDT-f_Hg.png](attachment:1_x-3NGQv0pRIab8xDT-f_Hg.png)\n",
        "\n",
        "Poszczególne neurony składają się z iloczynu skalarnego wejść z wagami neuronu, oraz nieliniowej funkcji aktywacji. W PyTorchu są to osobne obiekty - `nn.Linear` oraz np. `nn.Sigmoid`. Funkcja aktywacji przyjmuje wynik iloczynu skalarnego i przekształca go, aby sprawdzić, jak mocno reaguje neuron na dane wejście. Musi być nieliniowa z dwóch powodów. Po pierwsze, tylko nieliniowe przekształcenia są na tyle potężne, żeby umożliwić liniową separację danych w ostatniej warstwie. Po drugie, liniowe przekształcenia zwyczajnie nie działają. Aby zrozumieć czemu, trzeba zobaczyć, co matematycznie oznacza sieć MLP.\n",
        "\n",
        "![perceptron](https://www.saedsayad.com/images/Perceptron_bkp_1.png)\n",
        "\n",
        "Zapisane matematycznie MLP to:\n",
        "\n",
        "$\\large\n",
        "h_1 = f_1(x) \\\\\n",
        "h_2 = f_2(h_1) \\\\\n",
        "h_3 = f_3(h_2) \\\\\n",
        "... \\\\\n",
        "h_n = f_n(h_{n-1})\n",
        "$\n",
        "\n",
        "gdzie $x$ to wejście $f_i$ to funkcja aktywacji $i$-tej warstwy, a $h_i$ to wyjście $i$-tej warstwy, nazywane **ukrytą reprezentacją (hidden representation)**, lub *latent representation*. Nazwa bierze się z tego, że w środku sieci wyciągamy cechy i wzorce w danych, które nie są widoczne na pierwszy rzut oka na wejściu.\n",
        "\n",
        "Załóżmy, że uczymy się na danych $x$ o jednym wymiarze (dla uproszczenia wzorów) oraz nie mamy funkcji aktywacji, czyli wykorzystujemy tak naprawdę aktywację liniową $f(x) = x$. Zobaczmy jak będą wyglądać dane przechodząc przez kolejne warstwy:\n",
        "\n",
        "$\\large\n",
        "h_1 = f_1(xw_1) = xw_1 \\\\\n",
        "h_2 = f_2(h_1w_2) = xw_1w_2 \\\\\n",
        "... \\\\\n",
        "h_n = f_n(h_{n-1}w_n) = xw_1w_2...w_n\n",
        "$\n",
        "\n",
        "gdzie $w_i$ to jest parametr $i$-tej warstwy sieci, $x$ to są dane (w naszym przypadku jedna liczba) wejściowa, a $h_i$ to wyjście $i$-tej warstwy.\n",
        "\n",
        "Jak widać, taka sieć o $n$ warstwach jest równoważna sieci o jednej warstwie z parametrem $w = w_1w_2...w_n$. Wynika to z tego, że złożenie funkcji liniowych jest także funkcją liniową - patrz notatki z algebry :)\n",
        "\n",
        "Jeżeli natomiast użyjemy nieliniowej funkcji aktywacji, często oznaczanej jako $\\sigma$, to wszystko będzie działać. Co ważne, ostatnia warstwa, dająca wyjście sieci, ma zwykle inną aktywację od warstw wewnątrz sieci, bo też ma inne zadanie - zwrócić wartość dla klasyfikacji lub regresji. Na wyjściu korzysta się z funkcji liniowej (regresja), sigmoidalnej (klasyfikacja binarna) lub softmax (klasyfikacja wieloklasowa).\n",
        "\n",
        "Wewnątrz sieci używano kiedyś sigmoidy oraz tangensa hiperbolicznego `tanh`, ale okazało się to nieefektywne przy uczeniu głębokich sieci o wielu warstwach. Nowoczesne sieci korzystają zwykle z funkcji ReLU (*rectified linear unit*), która jest zaskakująco prosta: $ReLU(x) = \\max(0, x)$. Okazało się, że bardzo dobrze nadaje się do treningu nawet bardzo głębokich sieci neuronowych. Nowsze funkcje aktywacji są głównie modyfikacjami ReLU.\n",
        "\n",
        "![relu](https://www.nomidl.com/wp-content/uploads/2022/04/image-10.png)"
      ]
    },
    {
      "cell_type": "markdown",
      "metadata": {
        "id": "ukP6xM03gY71"
      },
      "source": [
        "### MLP w PyTorchu\n",
        "\n",
        "Warstwę neuronów w MLP nazywa się warstwą gęstą (*dense layer*) lub warstwą w pełni połączoną (*fully-connected layer*), i taki opis oznacza zwykle same neurony oraz funkcję aktywacji. PyTorch, jak już widzieliśmy, definiuje osobno transformację liniową oraz aktywację, a więc jedna warstwa składa się de facto z 2 obiektów, wywoływanych jeden po drugim. Inne frameworki, szczególnie wysokopoziomowe (np. Keras) łączą to często w jeden obiekt.\n",
        "\n",
        "MLP składa się zatem z sekwencji obiektów, które potem wywołuje się jeden po drugim, gdzie wyjście poprzedniego to wejście kolejnego. Ale nie można tutaj używać Pythonowych list! Z perspektywy PyTorcha to wtedy niezależne obiekty i nie zostanie wtedy przekazany między nimi gradient. Trzeba tutaj skorzystać z `nn.Sequential`, aby tworzyć taki pipeline.\n",
        "\n",
        "Rozmiary wejścia i wyjścia dla każdej warstwy trzeba w PyTorchu podawać explicite. Jest to po pierwsze edukacyjne, a po drugie często ułatwia wnioskowanie o działaniu sieci oraz jej debugowanie - mamy jasno podane, czego oczekujemy. Niektóre frameworki (np. Keras) obliczają to automatycznie.\n",
        "\n",
        "Co ważne, ostatnia warstwa zwykle nie ma funkcji aktywacji. Wynika to z tego, że obliczanie wielu funkcji kosztu (np. entropii krzyżowej) na aktywacjach jest często niestabilne numerycznie. Z tego powodu PyTorch oferuje funkcje kosztu zawierające w środku aktywację dla ostatniej warstwy, a ich implementacje są stabilne numerycznie. Przykładowo, `nn.BCELoss` przyjmuje wejście z zaaplikowanymi już aktywacjami, ale może skutkować under/overflow, natomiast `nn.BCEWithLogitsLoss` przyjmuje wejście bez aktywacji, a w środku ma specjalną implementację łączącą binarną entropię krzyżową z aktywacją sigmoidalną. Oczywiście w związku z tym aby dokonać potem predykcji w praktyce, trzeba pamiętać o użyciu funkcji aktywacji. Często korzysta się przy tym z funkcji z modułu `torch.nn.functional`, które są w tym wypadku nieco wygodniejsze od klas wywoływalnych z `torch.nn`.\n",
        "\n",
        "Całe sieci w PyTorchu tworzy się jako klasy dziedziczące po `nn.Module`. Co ważne, obiekty, z których tworzymy sieć, np. `nn.Linear`, także dziedziczą po tej klasie. Pozwala to na bardzo modułową budowę kodu, zgodną z zasadami OOP. W konstruktorze najpierw trzeba zawsze wywołać konstruktor rodzica - `super().__init__()`, a później tworzy się potrzebne obiekty i zapisuje jako atrybuty. Każdy atrybut dziedziczący po `nn.Module` lub `nn.Parameter` jest uważany za taki, który zawiera parametry sieci, a więc przy wywołaniu metody `parameters()` - parametry z tych atrybutów pojawią się w liście wszystkich parametrów. Musimy też zdefiniować metodę `forward()`, która przyjmuje tensor `x` i zwraca wynik. Typowo ta metoda po prostu używa obiektów zdefiniowanych w konstruktorze.\n",
        "\n",
        "\n",
        "**UWAGA: nigdy w normalnych warunkach się nie woła metody `forward` ręcznie**"
      ]
    },
    {
      "cell_type": "markdown",
      "metadata": {
        "id": "J8niDgExAMDO"
      },
      "source": [
        "#### Zadanie 4 (0.5 punktu)\n",
        "\n",
        "Uzupełnij implementację 3-warstwowej sieci MLP. Użyj rozmiarów:\n",
        "* pierwsza warstwa: input_size x 256\n",
        "* druga warstwa: 256 x 128\n",
        "* trzecia warstwa: 128 x 1\n",
        "\n",
        "Użyj funkcji aktywacji ReLU.\n",
        "\n",
        "Przydatne klasy:\n",
        "- `nn.Sequential`\n",
        "- `nn.Linear`\n",
        "- `nn.ReLU`"
      ]
    },
    {
      "cell_type": "code",
      "execution_count": 56,
      "metadata": {
        "id": "NU1Tx6LIgY71"
      },
      "outputs": [],
      "source": [
        "from torch import sigmoid\n",
        "\n",
        "\n",
        "class MLP(nn.Module):\n",
        "    def __init__(self, input_size: int):\n",
        "        super().__init__()\n",
        "        self.mlp = nn.Sequential(nn.Linear(input_size, 256),\n",
        "        nn.ReLU(), nn.Linear(256, 128), nn.ReLU(), nn.Linear(128, 1))\n",
        "\n",
        "\n",
        "    def forward(self, x):\n",
        "        return self.mlp(x)\n",
        "\n",
        "    def predict_proba(self, x):\n",
        "        return sigmoid(self(x))\n",
        "\n",
        "    def predict(self, x, threshold: float = 0.5):\n",
        "        y_pred_score = self.predict_proba(x)\n",
        "        return (y_pred_score > threshold).to(torch.int32)\n"
      ]
    },
    {
      "cell_type": "code",
      "execution_count": 57,
      "metadata": {
        "id": "TLoOl9KSgY72",
        "colab": {
          "base_uri": "https://localhost:8080/"
        },
        "outputId": "a20783f9-b4ae-42e4-c9b0-d448519fbe64"
      },
      "outputs": [
        {
          "output_type": "stream",
          "name": "stdout",
          "text": [
            "Epoch 0 train loss: 0.6953\n",
            "Epoch 200 train loss: 0.6683\n",
            "Epoch 400 train loss: 0.6454\n",
            "Epoch 600 train loss: 0.6258\n",
            "Epoch 800 train loss: 0.6090\n",
            "Epoch 1000 train loss: 0.5944\n",
            "Epoch 1200 train loss: 0.5819\n",
            "Epoch 1400 train loss: 0.5710\n",
            "Epoch 1600 train loss: 0.5615\n",
            "Epoch 1800 train loss: 0.5532\n",
            "final loss: 0.5458\n"
          ]
        }
      ],
      "source": [
        "learning_rate = 1e-3\n",
        "model = MLP(input_size=X_train.shape[1])\n",
        "optimizer = torch.optim.SGD(model.parameters(), lr=learning_rate)\n",
        "\n",
        "# note that we are using loss function with sigmoid built in\n",
        "loss_fn = torch.nn.BCEWithLogitsLoss()\n",
        "num_epochs = 2000\n",
        "evaluation_steps = 200\n",
        "\n",
        "for i in range(num_epochs):\n",
        "    y_pred = model(X_train)\n",
        "    loss = loss_fn(y_pred, y_train)\n",
        "    loss.backward()\n",
        "\n",
        "    optimizer.step()\n",
        "    optimizer.zero_grad()\n",
        "\n",
        "    if i % evaluation_steps == 0:\n",
        "        print(f\"Epoch {i} train loss: {loss.item():.4f}\")\n",
        "\n",
        "print(f\"final loss: {loss.item():.4f}\")"
      ]
    },
    {
      "cell_type": "code",
      "execution_count": 58,
      "metadata": {
        "id": "LP5GSup24dXU",
        "colab": {
          "base_uri": "https://localhost:8080/",
          "height": 489
        },
        "outputId": "528eb25e-f8ca-48c0-9835-3bfba7905a89"
      },
      "outputs": [
        {
          "output_type": "stream",
          "name": "stdout",
          "text": [
            "AUROC: 85.15%\n"
          ]
        },
        {
          "output_type": "display_data",
          "data": {
            "text/plain": [
              "<Figure size 640x480 with 1 Axes>"
            ],
            "image/png": "[encoded data removed]"
          },
          "metadata": {}
        }
      ],
      "source": [
        "model.eval()\n",
        "with torch.no_grad():\n",
        "    # positive class probabilities\n",
        "    y_pred_valid_score = model.predict_proba(X_valid)\n",
        "    y_pred_test_score = model.predict_proba(X_test)\n",
        "\n",
        "auroc = roc_auc_score(y_test, y_score)\n",
        "print(f\"AUROC: {100 * auroc:.2f}%\")\n",
        "\n",
        "plot_precision_recall_curve(y_valid, y_pred_valid_score)"
      ]
    },
    {
      "cell_type": "markdown",
      "metadata": {
        "id": "ex1u-REGgY73"
      },
      "source": [
        "AUROC jest podobne, a precision i recall spadły - wypadamy wręcz gorzej od regresji liniowej! Skoro dodaliśmy więcej warstw, to może pojemność modelu jest teraz za duża i trzeba by go zregularyzować?\n",
        "\n",
        "Sieci neuronowe bardzo łatwo przeuczają, bo są bardzo elastycznymi i pojemnymi modelami. Dlatego mają wiele różnych rodzajów regularyzacji, których używa się razem. Co ciekawe, udowodniono eksperymentalnie, że zbyt duże sieci z mocną regularyzacją działają lepiej niż mniejsze sieci, odpowiedniego rozmiaru, za to ze słabszą regularyzacją.\n",
        "\n",
        "Pierwszy rodzaj regularyzacji to znana nam już **regularyzacja L2**, czyli penalizacja zbyt dużych wag. W kontekście sieci neuronowych nazywa się też ją czasem *weight decay*. W PyTorchu dodaje się ją jako argument do optymalizatora.\n",
        "\n",
        "Regularyzacja specyficzna dla sieci neuronowych to **dropout**. Polega on na losowym wyłączaniu zadanego procenta neuronów podczas treningu. Pomimo prostoty okazała się niesamowicie skuteczna, szczególnie w treningu bardzo głębokich sieci. Co ważne, jest to mechanizm używany tylko podczas treningu - w trakcie predykcji za pomocą sieci wyłącza się ten mechanizm i dokonuje normalnie predykcji całą siecią. Podejście to można potraktować jak ensemble learning, podobny do lasów losowych - wyłączając losowe części sieci, w każdej iteracji trenujemy nieco inną sieć, co odpowiada uśrednianiu predykcji różnych algorytmów. Typowo stosuje się dość mocny dropout, rzędu 25-50%. W PyTorchu implementuje go warstwa `nn.Dropout`, aplikowana zazwyczaj po funkcji aktywacji.\n",
        "\n",
        "Ostatni, a być może najważniejszy rodzaj regularyzacji to **wczesny stop (early stopping)**. W każdym kroku mocniej dostosowujemy terenową sieć do zbioru treningowego, a więc zbyt długi trening będzie skutkował przeuczeniem. W metodzie wczesnego stopu używamy wydzielonego zbioru walidacyjnego (pojedynczego, metoda holdout), sprawdzając co określoną liczbę epok wynik na tym zbiorze. Jeżeli nie uzyskamy wyniku lepszego od najlepszego dotychczas uzyskanego przez określoną liczbę epok, to przerywamy trening. Okres, przez który czekamy na uzyskanie lepszego wyniku, to cierpliwość (*patience*). Im mniejsze, tym mocniejszy jest ten rodzaj regularyzacji, ale trzeba z tym uważać, bo łatwo jest przesadzić i zbyt szybko przerywać trening. Niektóre implementacje uwzględniają tzw. *grace period*, czyli gwarantowaną minimalną liczbę epok, przez którą będziemy trenować sieć, niezależnie od wybranej cierpliwości.\n",
        "\n",
        "Dodatkowo ryzyko przeuczenia można zmniejszyć, używając mniejszej stałej uczącej."
      ]
    },
    {
      "cell_type": "markdown",
      "metadata": {
        "id": "3bKuy5W5gY73"
      },
      "source": [
        "#### Zadanie 5 (1.5 punktu)\n",
        "\n",
        "Zaimplementuj funkcję `evaluate_model()`, obliczającą metryki na zbiorze testowym:\n",
        "- wartość funkcji kosztu (loss)\n",
        "- AUROC\n",
        "- optymalny próg\n",
        "- F1-score przy optymalnym progu\n",
        "- precyzję oraz recall dla optymalnego progu\n",
        "\n",
        "Jeżeli podana jest wartość argumentu `threshold`, to użyj jej do zamiany prawdopodobieństw na twarde predykcje. W przeciwnym razie użyj funkcji `get_optimal_threshold` i oblicz optymalną wartość progu.\n",
        "\n",
        "Pamiętaj o przełączeniu modelu w tryb ewaluacji oraz o wyłączeniu obliczania gradientów."
      ]
    },
    {
      "cell_type": "code",
      "execution_count": 59,
      "metadata": {
        "id": "3jQ324Y9gY74"
      },
      "outputs": [],
      "source": [
        "from typing import Optional\n",
        "\n",
        "from sklearn.metrics import precision_score, recall_score, f1_score\n",
        "from torch import sigmoid\n",
        "\n",
        "\n",
        "def evaluate_model(\n",
        "    model: nn.Module,\n",
        "    X: torch.Tensor,\n",
        "    y: torch.Tensor,\n",
        "    loss_fn: nn.Module,\n",
        "    threshold: Optional[float]= None\n",
        ") -> Dict[str, float]:\n",
        "    model.eval()\n",
        "    with torch.no_grad():\n",
        "      outputs = model.predict_proba(X)\n",
        "    auroc = roc_auc_score(y, outputs)\n",
        "    loss = loss_fn(outputs, y)\n",
        "    if threshold is None:\n",
        "      precisions, recalls, thresholds = precision_recall_curve(y, outputs)\n",
        "      _, threshold = get_optimal_threshold(precisions, recalls,\n",
        "      thresholds)\n",
        "    y_pred = (outputs > threshold).float()\n",
        "    precision = precision_score(y, y_pred)\n",
        "    recall = recall_score(y, y_pred)\n",
        "    f1 = f1_score(y, y_pred)\n",
        "    results = {\n",
        "    \"loss\": loss,\n",
        "    \"AUROC\": auroc,\n",
        "    \"optimal_threshold\": threshold,\n",
        "    \"precision\": precision,\n",
        "    \"recall\": recall,\n",
        "    \"F1-score\": f1,\n",
        "    }\n",
        "    return results\n",
        "\n",
        "\n"
      ]
    },
    {
      "cell_type": "markdown",
      "metadata": {
        "id": "d8l7W5VtgY74"
      },
      "source": [
        "#### Zadanie 6 (0.5 punktu)\n",
        "\n",
        "Zaimplementuj 3-warstwową sieć MLP z dropout (50%). Rozmiary warstw ukrytych mają wynosić 256 i 128."
      ]
    },
    {
      "cell_type": "code",
      "execution_count": 60,
      "metadata": {
        "id": "qu6LXhJigY75"
      },
      "outputs": [],
      "source": [
        "class RegularizedMLP(nn.Module):\n",
        "    def __init__(self, input_size: int, dropout_p: float = 0.5):\n",
        "        super().__init__()\n",
        "        self.mlp = nn.Sequential(nn.Linear(input_size, 256),\n",
        "        nn.ReLU(), nn.Dropout(dropout_p), nn.Linear(256, 128), nn.ReLU(),\n",
        "        nn.Dropout(dropout_p), nn.Linear(128, 1))\n",
        "\n",
        "    def forward(self, x):\n",
        "        return self.mlp(x)\n",
        "\n",
        "    def predict_proba(self, x):\n",
        "        return sigmoid(self(x))\n",
        "\n",
        "    def predict(self, x, threshold: float = 0.5):\n",
        "        y_pred_score = self.predict_proba(x)\n",
        "        return (y_pred_score > threshold).to(torch.int32)\n"
      ]
    },
    {
      "cell_type": "markdown",
      "metadata": {
        "id": "rEk9azaULAsz"
      },
      "source": [
        "Opisaliśmy wcześniej podstawowy optymalizator w sieciach neuronowych - spadek wzdłuż gradientu. Jednak wymaga on użycia całego zbioru danych, aby obliczyć gradient, co jest często niewykonalne przez rozmiar zbioru. Dlatego wymyślono **stochastyczny spadek wzdłuż gradientu (stochastic gradient descent, SGD)**, w którym używamy 1 przykładu naraz, liczymy gradient tylko po nim i aktualizujemy parametry. Jest to oczywiście dość grube przybliżenie gradientu, ale pozwala robić szybko dużo małych kroków. Kompromisem, którego używa się w praktyce, jest **minibatch gradient descent**, czyli używanie batchy np. 32, 64 czy 128 przykładów.\n",
        "\n",
        "Rzadko wspominanym, a ważnym faktem jest także to, że stochastyczność metody optymalizacji jest sama w sobie też [metodą regularyzacji](https://arxiv.org/abs/2101.12176), a więc `batch_size` to także hiperparametr.\n",
        "\n",
        "Obecnie najpopularniejszą odmianą SGD jest [Adam](https://arxiv.org/abs/1412.6980), gdyż uczy on szybko sieć oraz daje bardzo dobre wyniki nawet przy niekoniecznie idealnie dobranych hiperparametrach. W PyTorchu najlepiej korzystać z jego implementacji `AdamW`, która jest nieco lepsza niż implementacja `Adam`. Jest to zasadniczo zawsze wybór domyślny przy treningu współczesnych sieci neuronowych.\n",
        "\n",
        "Na razie użyjemy jednak minibatch SGD."
      ]
    },
    {
      "cell_type": "markdown",
      "metadata": {
        "id": "AHWow_0MgY76"
      },
      "source": [
        "Poniżej znajduje się implementacja prostej klasy dziedziczącej po `Dataset` - tak w PyTorchu implementuje się własne zbiory danych. Użycie takich klas umożliwia użycie klas ładujących dane (`DataLoader`), które z kolei pozwalają łatwo ładować batche danych. Trzeba w takiej klasie zaimplementować metody:\n",
        "- `__len__` - zwraca ilość punktów w zbiorze\n",
        "- `__getitem__` - zwraca przykład ze zbioru pod danym indeksem oraz jego klasę\n"
      ]
    },
    {
      "cell_type": "code",
      "execution_count": 62,
      "metadata": {
        "id": "HNNvBCxSgY76"
      },
      "outputs": [],
      "source": [
        "from torch.utils.data import Dataset\n",
        "\n",
        "\n",
        "class MyDataset(Dataset):\n",
        "    def __init__(self, data, y):\n",
        "        super().__init__()\n",
        "\n",
        "        self.data = data\n",
        "        self.y = y\n",
        "\n",
        "    def __len__(self):\n",
        "        return self.data.shape[0]\n",
        "\n",
        "    def __getitem__(self, idx):\n",
        "        return self.data[idx], self.y[idx]\n"
      ]
    },
    {
      "cell_type": "markdown",
      "metadata": {
        "id": "6sDTBV9ygY77"
      },
      "source": [
        "#### Zadanie 7 (1.5 punktu)\n",
        "\n",
        "Zaimplementuj pętlę treningowo-walidacyjną dla sieci neuronowej. Wykorzystaj podane wartości hiperparametrów do treningu (stała ucząca, prawdopodobieństwo dropoutu, regularyzacja L2, rozmiar batcha, maksymalna liczba epok). Użyj optymalizatora SGD.\n",
        "\n",
        "Dodatkowo zaimplementuj regularyzację przez early stopping. Sprawdzaj co epokę wynik na zbiorze walidacyjnym. Użyj podanej wartości patience, a jako metryki po prostu wartości funkcji kosztu. Może się tutaj przydać zaimplementowana funkcja `evaluate_model()`.\n",
        "\n",
        "Pamiętaj o tym, aby przechowywać najlepszy dotychczasowy wynik walidacyjny oraz najlepszy dotychczasowy model. Zapamiętaj też optymalny próg do klasyfikacji dla najlepszego modelu."
      ]
    },
    {
      "cell_type": "code",
      "execution_count": 71,
      "metadata": {
        "id": "8AMZXGIdgY77"
      },
      "outputs": [],
      "source": [
        "from copy import deepcopy\n",
        "\n",
        "from torch.utils.data import DataLoader\n",
        "\n",
        "\n",
        "learning_rate = 1e-3\n",
        "dropout_p = 0.5\n",
        "l2_reg = 1e-4\n",
        "batch_size = 128\n",
        "max_epochs = 300\n",
        "\n",
        "early_stopping_patience = 4"
      ]
    },
    {
      "cell_type": "code",
      "execution_count": 72,
      "metadata": {
        "scrolled": true,
        "id": "Y64N508YgY78",
        "colab": {
          "base_uri": "https://localhost:8080/"
        },
        "outputId": "8342197c-7a6f-4b57-d6f7-30f1e6de7d21"
      },
      "outputs": [
        {
          "output_type": "stream",
          "name": "stdout",
          "text": [
            "Epoch 0 train loss: 0.6479, eval loss 0.8371337652206421\n",
            "Epoch 1 train loss: 0.6325, eval loss 0.8313968777656555\n",
            "Epoch 2 train loss: 0.6190, eval loss 0.8260056376457214\n",
            "Epoch 3 train loss: 0.6094, eval loss 0.8208916783332825\n",
            "Epoch 4 train loss: 0.5946, eval loss 0.8160439133644104\n",
            "Epoch 5 train loss: 0.5876, eval loss 0.8114253878593445\n",
            "Epoch 6 train loss: 0.5772, eval loss 0.8070322871208191\n",
            "Epoch 7 train loss: 0.5696, eval loss 0.80283522605896\n",
            "Epoch 8 train loss: 0.5665, eval loss 0.7988623380661011\n",
            "Epoch 9 train loss: 0.5549, eval loss 0.7950630187988281\n",
            "Epoch 10 train loss: 0.5499, eval loss 0.7914789915084839\n",
            "Epoch 11 train loss: 0.5433, eval loss 0.7880576252937317\n",
            "Epoch 12 train loss: 0.5485, eval loss 0.784822404384613\n",
            "Epoch 13 train loss: 0.5384, eval loss 0.781785249710083\n",
            "Epoch 14 train loss: 0.5336, eval loss 0.778866708278656\n",
            "Epoch 15 train loss: 0.5238, eval loss 0.7761145830154419\n",
            "Epoch 16 train loss: 0.5366, eval loss 0.7735478281974792\n",
            "Epoch 17 train loss: 0.5216, eval loss 0.7710978984832764\n",
            "Epoch 18 train loss: 0.5130, eval loss 0.7687443494796753\n",
            "Epoch 19 train loss: 0.5198, eval loss 0.7665396332740784\n",
            "Epoch 20 train loss: 0.5204, eval loss 0.7644534707069397\n",
            "Epoch 21 train loss: 0.5045, eval loss 0.7624244689941406\n",
            "Epoch 22 train loss: 0.5049, eval loss 0.7605190277099609\n",
            "Epoch 23 train loss: 0.5029, eval loss 0.7586910724639893\n",
            "Epoch 24 train loss: 0.5098, eval loss 0.7569682002067566\n",
            "Epoch 25 train loss: 0.5079, eval loss 0.7553023099899292\n",
            "Epoch 26 train loss: 0.4971, eval loss 0.7537370324134827\n",
            "Epoch 27 train loss: 0.5060, eval loss 0.7522545456886292\n",
            "Epoch 28 train loss: 0.4898, eval loss 0.7508141994476318\n",
            "Epoch 29 train loss: 0.4757, eval loss 0.7494806051254272\n",
            "Epoch 30 train loss: 0.4810, eval loss 0.7481144070625305\n",
            "Epoch 31 train loss: 0.4726, eval loss 0.7468019127845764\n",
            "Epoch 32 train loss: 0.4822, eval loss 0.7455325722694397\n",
            "Epoch 33 train loss: 0.4754, eval loss 0.7443270087242126\n",
            "Epoch 34 train loss: 0.4728, eval loss 0.7431275248527527\n",
            "Epoch 35 train loss: 0.4769, eval loss 0.7419627904891968\n",
            "Epoch 36 train loss: 0.4713, eval loss 0.7408722043037415\n",
            "Epoch 37 train loss: 0.4672, eval loss 0.739771842956543\n",
            "Epoch 38 train loss: 0.4634, eval loss 0.7386494874954224\n",
            "Epoch 39 train loss: 0.4478, eval loss 0.7376141548156738\n",
            "Epoch 40 train loss: 0.4570, eval loss 0.7365676164627075\n",
            "Epoch 41 train loss: 0.4529, eval loss 0.7355952858924866\n",
            "Epoch 42 train loss: 0.4519, eval loss 0.7346516847610474\n",
            "Epoch 43 train loss: 0.4580, eval loss 0.7337014675140381\n",
            "Epoch 44 train loss: 0.4449, eval loss 0.7327597141265869\n",
            "Epoch 45 train loss: 0.4409, eval loss 0.7318670749664307\n",
            "Epoch 46 train loss: 0.4396, eval loss 0.730960488319397\n",
            "Epoch 47 train loss: 0.4358, eval loss 0.7300816774368286\n",
            "Epoch 48 train loss: 0.4479, eval loss 0.7292448878288269\n",
            "Epoch 49 train loss: 0.4508, eval loss 0.7284299731254578\n",
            "Epoch 50 train loss: 0.4242, eval loss 0.7275538444519043\n",
            "Epoch 51 train loss: 0.4470, eval loss 0.726769745349884\n",
            "Epoch 52 train loss: 0.4467, eval loss 0.7260029911994934\n",
            "Epoch 53 train loss: 0.4395, eval loss 0.7252154350280762\n",
            "Epoch 54 train loss: 0.4308, eval loss 0.7245007753372192\n",
            "Epoch 55 train loss: 0.4233, eval loss 0.7238311171531677\n",
            "Epoch 56 train loss: 0.4183, eval loss 0.7231581807136536\n",
            "Epoch 57 train loss: 0.4182, eval loss 0.7224728465080261\n",
            "Epoch 58 train loss: 0.4352, eval loss 0.7218074202537537\n",
            "Epoch 59 train loss: 0.4109, eval loss 0.7211904525756836\n",
            "Epoch 60 train loss: 0.4266, eval loss 0.720568835735321\n",
            "Epoch 61 train loss: 0.4234, eval loss 0.7199708223342896\n",
            "Epoch 62 train loss: 0.4238, eval loss 0.7193771004676819\n",
            "Epoch 63 train loss: 0.4416, eval loss 0.7188754677772522\n",
            "Epoch 64 train loss: 0.4243, eval loss 0.7183473110198975\n",
            "Epoch 65 train loss: 0.3995, eval loss 0.7178276777267456\n",
            "Epoch 66 train loss: 0.4077, eval loss 0.7172441482543945\n",
            "Epoch 67 train loss: 0.3978, eval loss 0.7167599201202393\n",
            "Epoch 68 train loss: 0.3885, eval loss 0.7162641882896423\n",
            "Epoch 69 train loss: 0.4093, eval loss 0.7157838940620422\n",
            "Epoch 70 train loss: 0.4230, eval loss 0.7153429985046387\n",
            "Epoch 71 train loss: 0.4130, eval loss 0.7148730158805847\n",
            "Epoch 72 train loss: 0.4190, eval loss 0.7144282460212708\n",
            "Epoch 73 train loss: 0.4013, eval loss 0.7140181064605713\n",
            "Epoch 74 train loss: 0.4139, eval loss 0.7135819792747498\n",
            "Epoch 75 train loss: 0.4093, eval loss 0.7131169438362122\n",
            "Epoch 76 train loss: 0.4057, eval loss 0.7127638459205627\n",
            "Epoch 77 train loss: 0.4036, eval loss 0.7123595476150513\n",
            "Epoch 78 train loss: 0.4146, eval loss 0.7119698524475098\n",
            "Epoch 79 train loss: 0.3968, eval loss 0.711571216583252\n",
            "Epoch 80 train loss: 0.4008, eval loss 0.711153507232666\n",
            "Epoch 81 train loss: 0.4062, eval loss 0.710841715335846\n",
            "Epoch 82 train loss: 0.4064, eval loss 0.7105796933174133\n",
            "Epoch 83 train loss: 0.3873, eval loss 0.7102441787719727\n",
            "Epoch 84 train loss: 0.3953, eval loss 0.7099224925041199\n",
            "Epoch 85 train loss: 0.4231, eval loss 0.7095981240272522\n",
            "Epoch 86 train loss: 0.4024, eval loss 0.7092810273170471\n",
            "Epoch 87 train loss: 0.3964, eval loss 0.7089857459068298\n",
            "Epoch 88 train loss: 0.4141, eval loss 0.7087063789367676\n",
            "Epoch 89 train loss: 0.3794, eval loss 0.7083949446678162\n",
            "Epoch 90 train loss: 0.4243, eval loss 0.7080933451652527\n",
            "Epoch 91 train loss: 0.3994, eval loss 0.7078619599342346\n",
            "Epoch 92 train loss: 0.3894, eval loss 0.7076241970062256\n",
            "Epoch 93 train loss: 0.3861, eval loss 0.707425057888031\n",
            "Epoch 94 train loss: 0.3849, eval loss 0.7071146368980408\n",
            "Epoch 95 train loss: 0.3916, eval loss 0.7069154381752014\n",
            "Epoch 96 train loss: 0.3722, eval loss 0.7066500186920166\n",
            "Epoch 97 train loss: 0.3696, eval loss 0.7064552903175354\n",
            "Epoch 98 train loss: 0.4094, eval loss 0.7062062621116638\n",
            "Epoch 99 train loss: 0.3945, eval loss 0.70598304271698\n",
            "Epoch 100 train loss: 0.3757, eval loss 0.7057273983955383\n",
            "Epoch 101 train loss: 0.3888, eval loss 0.7055003046989441\n",
            "Epoch 102 train loss: 0.4015, eval loss 0.7052865028381348\n",
            "Epoch 103 train loss: 0.3731, eval loss 0.7050361633300781\n",
            "Epoch 104 train loss: 0.3996, eval loss 0.7048805356025696\n",
            "Epoch 105 train loss: 0.3677, eval loss 0.7047361135482788\n",
            "Epoch 106 train loss: 0.4327, eval loss 0.7045942544937134\n",
            "Epoch 107 train loss: 0.3812, eval loss 0.7044055461883545\n",
            "Epoch 108 train loss: 0.4092, eval loss 0.7042383551597595\n",
            "Epoch 109 train loss: 0.3636, eval loss 0.7041056752204895\n",
            "Epoch 110 train loss: 0.4061, eval loss 0.7039065361022949\n",
            "Epoch 111 train loss: 0.3714, eval loss 0.703736424446106\n",
            "Epoch 112 train loss: 0.3764, eval loss 0.7036013007164001\n",
            "Epoch 113 train loss: 0.3790, eval loss 0.7034107446670532\n",
            "Epoch 114 train loss: 0.3855, eval loss 0.7031756043434143\n",
            "Epoch 115 train loss: 0.3893, eval loss 0.70308518409729\n",
            "Epoch 116 train loss: 0.3577, eval loss 0.7029861211776733\n",
            "Epoch 117 train loss: 0.3638, eval loss 0.7028840780258179\n",
            "Epoch 118 train loss: 0.3931, eval loss 0.7026548981666565\n",
            "Epoch 119 train loss: 0.3766, eval loss 0.7025561332702637\n",
            "Epoch 120 train loss: 0.3900, eval loss 0.7024179100990295\n",
            "Epoch 121 train loss: 0.3768, eval loss 0.7022460699081421\n",
            "Epoch 122 train loss: 0.3890, eval loss 0.7021822929382324\n",
            "Epoch 123 train loss: 0.4135, eval loss 0.7020415663719177\n",
            "Epoch 124 train loss: 0.4183, eval loss 0.7019764184951782\n",
            "Epoch 125 train loss: 0.3895, eval loss 0.7018910646438599\n",
            "Epoch 126 train loss: 0.4003, eval loss 0.7017866373062134\n",
            "Epoch 127 train loss: 0.3665, eval loss 0.7016776204109192\n",
            "Epoch 128 train loss: 0.4107, eval loss 0.701507031917572\n",
            "Epoch 129 train loss: 0.3903, eval loss 0.7013949751853943\n",
            "Epoch 130 train loss: 0.3902, eval loss 0.7013673782348633\n",
            "Epoch 131 train loss: 0.3957, eval loss 0.7012894749641418\n",
            "Epoch 132 train loss: 0.3904, eval loss 0.7011794447898865\n",
            "Epoch 133 train loss: 0.3886, eval loss 0.7010055184364319\n",
            "Epoch 134 train loss: 0.3876, eval loss 0.700922429561615\n",
            "Epoch 135 train loss: 0.3946, eval loss 0.700782060623169\n",
            "Epoch 136 train loss: 0.3673, eval loss 0.7006744742393494\n",
            "Epoch 137 train loss: 0.4035, eval loss 0.7005342841148376\n",
            "Epoch 138 train loss: 0.3574, eval loss 0.7003653645515442\n",
            "Epoch 139 train loss: 0.3712, eval loss 0.7003028392791748\n",
            "Epoch 140 train loss: 0.3989, eval loss 0.7002729773521423\n",
            "Epoch 141 train loss: 0.3703, eval loss 0.7001612186431885\n",
            "Epoch 142 train loss: 0.3801, eval loss 0.7000434994697571\n",
            "Epoch 143 train loss: 0.3821, eval loss 0.6999605894088745\n",
            "Epoch 144 train loss: 0.3868, eval loss 0.6998550295829773\n",
            "Epoch 145 train loss: 0.3610, eval loss 0.6997745633125305\n",
            "Epoch 146 train loss: 0.3890, eval loss 0.6997517347335815\n",
            "Epoch 147 train loss: 0.3783, eval loss 0.6996138095855713\n",
            "Epoch 148 train loss: 0.3531, eval loss 0.6994866728782654\n",
            "Epoch 149 train loss: 0.3707, eval loss 0.6994101405143738\n",
            "Epoch 150 train loss: 0.3590, eval loss 0.6993091106414795\n",
            "Epoch 151 train loss: 0.3629, eval loss 0.6991543769836426\n",
            "Epoch 152 train loss: 0.4115, eval loss 0.699116051197052\n",
            "Epoch 153 train loss: 0.3651, eval loss 0.6990441679954529\n",
            "Epoch 154 train loss: 0.3933, eval loss 0.6989862322807312\n",
            "Epoch 155 train loss: 0.3720, eval loss 0.6990196704864502\n",
            "Epoch 156 train loss: 0.3917, eval loss 0.6989631056785583\n",
            "Epoch 157 train loss: 0.3637, eval loss 0.6989459991455078\n",
            "Epoch 158 train loss: 0.3674, eval loss 0.6989020109176636\n",
            "Epoch 159 train loss: 0.3820, eval loss 0.6987921595573425\n",
            "Epoch 160 train loss: 0.3865, eval loss 0.6986973881721497\n",
            "Epoch 161 train loss: 0.3780, eval loss 0.6986770033836365\n",
            "Epoch 162 train loss: 0.3634, eval loss 0.6985531449317932\n",
            "Epoch 163 train loss: 0.3634, eval loss 0.698540210723877\n",
            "Epoch 164 train loss: 0.3986, eval loss 0.6984333395957947\n",
            "Epoch 165 train loss: 0.3711, eval loss 0.6984052658081055\n",
            "Epoch 166 train loss: 0.3824, eval loss 0.6983416676521301\n",
            "Epoch 167 train loss: 0.3931, eval loss 0.6982424259185791\n",
            "Epoch 168 train loss: 0.3673, eval loss 0.6981440186500549\n",
            "Epoch 169 train loss: 0.3687, eval loss 0.6980693936347961\n",
            "Epoch 170 train loss: 0.4088, eval loss 0.6980344653129578\n",
            "Epoch 171 train loss: 0.3768, eval loss 0.697982668876648\n",
            "Epoch 172 train loss: 0.3480, eval loss 0.6979438066482544\n",
            "Epoch 173 train loss: 0.3903, eval loss 0.6979067921638489\n",
            "Epoch 174 train loss: 0.3860, eval loss 0.6978577375411987\n",
            "Epoch 175 train loss: 0.3741, eval loss 0.6978378891944885\n",
            "Epoch 176 train loss: 0.3705, eval loss 0.6977493762969971\n",
            "Epoch 177 train loss: 0.3777, eval loss 0.6977006196975708\n",
            "Epoch 178 train loss: 0.3856, eval loss 0.6976761817932129\n",
            "Epoch 179 train loss: 0.3754, eval loss 0.6975799798965454\n",
            "Epoch 180 train loss: 0.3487, eval loss 0.6974120736122131\n",
            "Epoch 181 train loss: 0.3579, eval loss 0.697381854057312\n",
            "Epoch 182 train loss: 0.3889, eval loss 0.6973393559455872\n",
            "Epoch 183 train loss: 0.3864, eval loss 0.6972525715827942\n",
            "Epoch 184 train loss: 0.3524, eval loss 0.6971603035926819\n",
            "Epoch 185 train loss: 0.3737, eval loss 0.6970812678337097\n",
            "Epoch 186 train loss: 0.3696, eval loss 0.6970424056053162\n",
            "Epoch 187 train loss: 0.3535, eval loss 0.6969401240348816\n",
            "Epoch 188 train loss: 0.3561, eval loss 0.6968441605567932\n",
            "Epoch 189 train loss: 0.3458, eval loss 0.6967746019363403\n",
            "Epoch 190 train loss: 0.3876, eval loss 0.6967949867248535\n",
            "Epoch 191 train loss: 0.3461, eval loss 0.6967577934265137\n",
            "Epoch 192 train loss: 0.3621, eval loss 0.6967189311981201\n",
            "Epoch 193 train loss: 0.3739, eval loss 0.6966474652290344\n",
            "Epoch 194 train loss: 0.3893, eval loss 0.6966244578361511\n",
            "Epoch 195 train loss: 0.3711, eval loss 0.6965479254722595\n",
            "Epoch 196 train loss: 0.4225, eval loss 0.6965392231941223\n",
            "Epoch 197 train loss: 0.3347, eval loss 0.6964653730392456\n",
            "Epoch 198 train loss: 0.3871, eval loss 0.6963087320327759\n",
            "Epoch 199 train loss: 0.3574, eval loss 0.6963704228401184\n",
            "Epoch 200 train loss: 0.3726, eval loss 0.6962921619415283\n",
            "Epoch 201 train loss: 0.3874, eval loss 0.6962351202964783\n",
            "Epoch 202 train loss: 0.3786, eval loss 0.6961232423782349\n",
            "Epoch 203 train loss: 0.3676, eval loss 0.6960176825523376\n",
            "Epoch 204 train loss: 0.3881, eval loss 0.69594806432724\n",
            "Epoch 205 train loss: 0.4052, eval loss 0.695935845375061\n",
            "Epoch 206 train loss: 0.3602, eval loss 0.6959751844406128\n",
            "Epoch 207 train loss: 0.3936, eval loss 0.6959133744239807\n",
            "Epoch 208 train loss: 0.3617, eval loss 0.6958953738212585\n",
            "Epoch 209 train loss: 0.3747, eval loss 0.6957685351371765\n",
            "Epoch 210 train loss: 0.3707, eval loss 0.6957952380180359\n",
            "Epoch 211 train loss: 0.3966, eval loss 0.695749819278717\n",
            "Epoch 212 train loss: 0.3892, eval loss 0.6956636309623718\n",
            "Epoch 213 train loss: 0.3618, eval loss 0.6956566572189331\n",
            "Epoch 214 train loss: 0.3490, eval loss 0.695633590221405\n",
            "Epoch 215 train loss: 0.3482, eval loss 0.6955698132514954\n",
            "Epoch 216 train loss: 0.3609, eval loss 0.695552408695221\n",
            "Epoch 217 train loss: 0.3730, eval loss 0.6954848170280457\n",
            "Epoch 218 train loss: 0.3586, eval loss 0.6954719424247742\n",
            "Epoch 219 train loss: 0.3375, eval loss 0.6954335570335388\n",
            "Epoch 220 train loss: 0.3742, eval loss 0.6954694986343384\n",
            "Epoch 221 train loss: 0.3657, eval loss 0.6954191327095032\n",
            "Epoch 222 train loss: 0.3700, eval loss 0.6953254342079163\n",
            "Epoch 223 train loss: 0.3859, eval loss 0.6953220367431641\n",
            "Epoch 224 train loss: 0.3557, eval loss 0.6952996850013733\n",
            "Epoch 225 train loss: 0.4026, eval loss 0.6952955722808838\n",
            "Epoch 226 train loss: 0.3844, eval loss 0.6952641606330872\n",
            "Epoch 227 train loss: 0.3501, eval loss 0.695189893245697\n",
            "Epoch 228 train loss: 0.3908, eval loss 0.6951493620872498\n",
            "Epoch 229 train loss: 0.3686, eval loss 0.6951658725738525\n",
            "Epoch 230 train loss: 0.3804, eval loss 0.695091724395752\n",
            "Epoch 231 train loss: 0.3398, eval loss 0.6950440406799316\n",
            "Epoch 232 train loss: 0.4094, eval loss 0.6949743628501892\n",
            "Epoch 233 train loss: 0.3773, eval loss 0.6949065327644348\n",
            "Epoch 234 train loss: 0.3557, eval loss 0.6948694586753845\n",
            "Epoch 235 train loss: 0.3491, eval loss 0.6947765946388245\n",
            "Epoch 236 train loss: 0.3831, eval loss 0.6946916580200195\n",
            "Epoch 237 train loss: 0.3404, eval loss 0.6946711540222168\n",
            "Epoch 238 train loss: 0.3662, eval loss 0.6946604251861572\n",
            "Epoch 239 train loss: 0.3617, eval loss 0.6945740580558777\n",
            "Epoch 240 train loss: 0.3624, eval loss 0.694518506526947\n",
            "Epoch 241 train loss: 0.3393, eval loss 0.69449383020401\n",
            "Epoch 242 train loss: 0.3701, eval loss 0.6944918632507324\n",
            "Epoch 243 train loss: 0.3698, eval loss 0.6944184303283691\n",
            "Epoch 244 train loss: 0.3746, eval loss 0.6944239139556885\n",
            "Epoch 245 train loss: 0.4040, eval loss 0.6944319009780884\n",
            "Epoch 246 train loss: 0.3673, eval loss 0.6943016052246094\n",
            "Epoch 247 train loss: 0.3586, eval loss 0.6943055987358093\n",
            "Epoch 248 train loss: 0.3773, eval loss 0.6942277550697327\n",
            "Epoch 249 train loss: 0.3567, eval loss 0.6941649913787842\n",
            "Epoch 250 train loss: 0.3718, eval loss 0.6941213607788086\n",
            "Epoch 251 train loss: 0.3772, eval loss 0.6940686106681824\n",
            "Epoch 252 train loss: 0.3893, eval loss 0.6940880417823792\n",
            "Epoch 253 train loss: 0.3795, eval loss 0.6940518617630005\n",
            "Epoch 254 train loss: 0.3849, eval loss 0.6941335201263428\n",
            "Epoch 255 train loss: 0.3633, eval loss 0.694018542766571\n",
            "Epoch 256 train loss: 0.3445, eval loss 0.6940242052078247\n",
            "Epoch 257 train loss: 0.3991, eval loss 0.6939161419868469\n",
            "Epoch 258 train loss: 0.3578, eval loss 0.6938979029655457\n",
            "Epoch 259 train loss: 0.3623, eval loss 0.6938362121582031\n",
            "Epoch 260 train loss: 0.3480, eval loss 0.6937788724899292\n",
            "Epoch 261 train loss: 0.3614, eval loss 0.6937688589096069\n",
            "Epoch 262 train loss: 0.3262, eval loss 0.6937922835350037\n",
            "Epoch 263 train loss: 0.3521, eval loss 0.6937454342842102\n",
            "Epoch 264 train loss: 0.3853, eval loss 0.693718671798706\n",
            "Epoch 265 train loss: 0.3454, eval loss 0.6936911344528198\n",
            "Epoch 266 train loss: 0.3776, eval loss 0.6936023235321045\n",
            "Epoch 267 train loss: 0.3739, eval loss 0.6936562061309814\n",
            "Epoch 268 train loss: 0.3510, eval loss 0.6936421990394592\n",
            "Epoch 269 train loss: 0.3622, eval loss 0.6936944127082825\n"
          ]
        }
      ],
      "source": [
        "model = RegularizedMLP(\n",
        "    input_size=X_train.shape[1],\n",
        "    dropout_p=dropout_p\n",
        ")\n",
        "optimizer = torch.optim.SGD(\n",
        "    model.parameters(),\n",
        "    lr=learning_rate,\n",
        "    weight_decay=l2_reg\n",
        ")\n",
        "loss_fn = torch.nn.BCEWithLogitsLoss()\n",
        "\n",
        "train_dataset = MyDataset(X_train, y_train)\n",
        "train_dataloader = DataLoader(train_dataset, batch_size=batch_size)\n",
        "\n",
        "steps_without_improvement = 0\n",
        "\n",
        "best_val_loss = np.inf\n",
        "best_model = None\n",
        "best_threshold = None\n",
        "\n",
        "for epoch_num in range(max_epochs):\n",
        "    model.train()\n",
        "\n",
        "    # note that we are using DataLoader to get batches\n",
        "    for X_batch, y_batch in train_dataloader:\n",
        "        # model training\n",
        "        outputs = model(X_batch)\n",
        "        loss = loss_fn(outputs, y_batch)\n",
        "        loss.backward()\n",
        "        optimizer.step()\n",
        "        optimizer.zero_grad()\n",
        "\n",
        "    # model evaluation, early stopping\n",
        "    model.eval()\n",
        "    valid_metrics = evaluate_model(model, X_valid, y_valid, loss_fn)\n",
        "    if valid_metrics[\"loss\"] < best_val_loss:\n",
        "      best_val_loss = valid_metrics[\"loss\"]\n",
        "      steps_without_improvement = 0\n",
        "      best_model = deepcopy(model)\n",
        "      best_threshold = valid_metrics[\"optimal_threshold\"]\n",
        "    else:\n",
        "      steps_without_improvement += 1\n",
        "      if steps_without_improvement == early_stopping_patience:\n",
        "        break\n",
        "\n",
        "    print(f\"Epoch {epoch_num} train loss: {loss.item():.4f}, eval loss {valid_metrics['loss']}\")\n"
      ]
    },
    {
      "cell_type": "code",
      "execution_count": 73,
      "metadata": {
        "id": "XJgauJwhgY78",
        "colab": {
          "base_uri": "https://localhost:8080/"
        },
        "outputId": "9249d82d-864c-4947-a6d8-a6c9aba0920e"
      },
      "outputs": [
        {
          "output_type": "stream",
          "name": "stdout",
          "text": [
            "AUROC: 90.15%\n",
            "F1: 68.72%\n",
            "Precision: 62.19%\n",
            "Recall: 76.79%\n"
          ]
        }
      ],
      "source": [
        "test_metrics = evaluate_model(best_model, X_test, y_test, loss_fn, best_threshold)\n",
        "\n",
        "print(f\"AUROC: {100 * test_metrics['AUROC']:.2f}%\")\n",
        "print(f\"F1: {100 * test_metrics['F1-score']:.2f}%\")\n",
        "print(f\"Precision: {100 * test_metrics['precision']:.2f}%\")\n",
        "print(f\"Recall: {100 * test_metrics['recall']:.2f}%\")"
      ]
    },
    {
      "cell_type": "markdown",
      "metadata": {
        "id": "myei995hgY78"
      },
      "source": [
        "Wyniki wyglądają już dużo lepiej.\n",
        "\n",
        "Na koniec laboratorium dołożymy do naszego modelu jeszcze 3 powrzechnie używane techniki, które są bardzo proste, a pozwalają często ulepszyć wynik modelu.\n",
        "\n",
        "Pierwszą z nich są **warstwy normalizacji (normalization layers)**. Powstały one początkowo z założeniem, że przez przekształcenia przestrzeni dokonywane przez sieć zmienia się rozkład prawdopodobieństw pomiędzy warstwami, czyli tzw. *internal covariate shift*. Później okazało się, że zastosowanie takiej normalizacji wygładza powierzchnię funkcji kosztu, co ułatwia i przyspiesza optymalizację. Najpowszechniej używaną normalizacją jest **batch normalization (batch norm)**.\n",
        "\n",
        "Drugim ulepszeniem jest dodanie **wag klas (class weights)**. Mamy do czynienia z problemem klasyfikacji niezbalansowanej, więc klasa mniejszościowa, ważniejsza dla nas, powinna dostać większą wagę. Implementuje się to trywialnie prosto - po prostu mnożymy wartość funkcji kosztu dla danego przykładu przez wagę dla prawdziwej klasy tego przykładu. Praktycznie każdy klasyfikator operujący na jakiejś ważonej funkcji może działać w ten sposób, nie tylko sieci neuronowe.\n",
        "\n",
        "Ostatnim ulepszeniem jest zamiana SGD na optymalizator Adam, a konkretnie na optymalizator `AdamW`. Jest to przykład **optymalizatora adaptacyjnego (adaptive optimizer)**, który potrafi zaadaptować stałą uczącą dla każdego parametru z osobna w trakcie treningu. Wykorzystuje do tego gradienty - w uproszczeniu, im większa wariancja gradientu, tym mniejsze kroki w tym kierunku robimy."
      ]
    },
    {
      "cell_type": "markdown",
      "metadata": {
        "id": "9wRtaw26gY79"
      },
      "source": [
        "#### Zadanie 8 (0.5 punktu)\n",
        "\n",
        "Zaimplementuj model `NormalizingMLP`, o takiej samej strukturze jak `RegularizedMLP`, ale dodatkowo z warstwami `BatchNorm1d` pomiędzy warstwami `Linear` oraz `ReLU`.\n",
        "\n",
        "Za pomocą funkcji `compute_class_weight()` oblicz wagi dla poszczególnych klas. Użyj opcji `\"balanced\"`. Przekaż do funkcji kosztu wagę klasy pozytywnej (pamiętaj, aby zamienić ją na tensor).\n",
        "\n",
        "Zamień używany optymalizator na `AdamW`.\n",
        "\n",
        "Na koniec skopiuj resztę kodu do treningu z poprzedniego zadania, wytrenuj sieć i oblicz wyniki na zbiorze testowym."
      ]
    },
    {
      "cell_type": "code",
      "execution_count": 74,
      "metadata": {
        "id": "hpSLE_j5gY7-"
      },
      "outputs": [],
      "source": [
        "class NormalizingMLP(nn.Module):\n",
        "    def __init__(self, input_size: int, dropout_p: float = 0.5):\n",
        "        super().__init__()\n",
        "\n",
        "        self.mlp = nn.Sequential(nn.Linear(input_size, 256), nn.BatchNorm1d(256), nn.ReLU(), nn.Dropout(dropout_p), nn.Linear(256, 128), nn.BatchNorm1d(128), nn.ReLU(), nn.Dropout(dropout_p), nn.Linear(128, 1))\n",
        "\n",
        "\n",
        "    def forward(self, x):\n",
        "        return self.mlp(x)\n",
        "\n",
        "    def predict_proba(self, x):\n",
        "        return sigmoid(self(x))\n",
        "\n",
        "    def predict(self, x, threshold: float = 0.5):\n",
        "        y_pred_score = self.predict_proba(x)\n",
        "        return (y_pred_score > threshold).to(torch.int32)\n"
      ]
    },
    {
      "cell_type": "code",
      "execution_count": 75,
      "metadata": {
        "id": "CeVbXcY9gY7-"
      },
      "outputs": [],
      "source": [
        "from sklearn.utils.class_weight import compute_class_weight\n",
        "weights = compute_class_weight(class_weight='balanced',\n",
        "classes=np.unique(y), y=y)\n",
        "learning_rate = 1e-3\n",
        "dropout_p = 0.5\n",
        "l2_reg = 1e-4\n",
        "batch_size = 128\n",
        "max_epochs = 300\n",
        "early_stopping_patience = 4\n"
      ]
    },
    {
      "cell_type": "code",
      "execution_count": 76,
      "metadata": {
        "scrolled": true,
        "id": "0rL5qoSvgY7-",
        "colab": {
          "base_uri": "https://localhost:8080/"
        },
        "outputId": "f6d6e64a-db45-4f08-bf9b-f2eaf56a270d"
      },
      "outputs": [
        {
          "output_type": "stream",
          "name": "stdout",
          "text": [
            "Epoch 0 train loss: 0.5668, eval loss0.8220452070236206\n",
            "Epoch 1 train loss: 0.6181, eval loss0.8166943192481995\n",
            "Epoch 2 train loss: 0.5694, eval loss0.8159316778182983\n",
            "Epoch 3 train loss: 0.5532, eval loss0.814612090587616\n",
            "Epoch 4 train loss: 0.6225, eval loss0.8129861950874329\n",
            "Epoch 5 train loss: 0.5813, eval loss0.8128378391265869\n",
            "Epoch 6 train loss: 0.5090, eval loss0.8125025033950806\n",
            "Epoch 7 train loss: 0.5538, eval loss0.8114038705825806\n",
            "Epoch 8 train loss: 0.5831, eval loss0.8124654293060303\n",
            "Epoch 9 train loss: 0.5398, eval loss0.8111039400100708\n",
            "Epoch 10 train loss: 0.4841, eval loss0.810825765132904\n",
            "Epoch 11 train loss: 0.5742, eval loss0.8102231621742249\n",
            "Epoch 12 train loss: 0.5430, eval loss0.8093199133872986\n",
            "Epoch 13 train loss: 0.5258, eval loss0.8102295398712158\n",
            "Epoch 14 train loss: 0.4852, eval loss0.8114041090011597\n",
            "Epoch 15 train loss: 0.5123, eval loss0.8092822432518005\n",
            "Epoch 16 train loss: 0.4451, eval loss0.8090106844902039\n",
            "Epoch 17 train loss: 0.5047, eval loss0.8097448348999023\n",
            "Epoch 18 train loss: 0.5017, eval loss0.8094524145126343\n",
            "Epoch 19 train loss: 0.5007, eval loss0.8097759485244751\n",
            "Epoch 20 train loss: 0.5125, eval loss0.8079569339752197\n",
            "Epoch 21 train loss: 0.4372, eval loss0.8087974190711975\n",
            "Epoch 22 train loss: 0.4658, eval loss0.8090152144432068\n",
            "Epoch 23 train loss: 0.4823, eval loss0.8096756339073181\n"
          ]
        }
      ],
      "source": [
        "model = NormalizingMLP(\n",
        " input_size=X_train.shape[1],\n",
        " dropout_p=dropout_p\n",
        ")\n",
        "optimizer = torch.optim.AdamW(model.parameters(), lr=learning_rate,\n",
        "weight_decay=l2_reg)\n",
        "loss_fn = torch.nn.BCEWithLogitsLoss(pos_weight=torch.from_numpy(weights)[1])\n",
        "train_dataset = MyDataset(X_train, y_train)\n",
        "train_dataloader = DataLoader(train_dataset, batch_size=batch_size)\n",
        "steps_without_improvement = 0\n",
        "best_val_loss = np.inf\n",
        "best_model = None\n",
        "best_threshold = None\n",
        "\n",
        "\n",
        "for epoch_num in range(max_epochs):\n",
        "  model.train()\n",
        "  # note that we are using DataLoader to get batches\n",
        "  for X_batch, y_batch in train_dataloader:\n",
        "    outputs = model(X_batch)\n",
        "    loss = loss_fn(outputs, y_batch)\n",
        "    loss.backward()\n",
        "    optimizer.step()\n",
        "    optimizer.zero_grad()\n",
        "  # model evaluation, early stopping\n",
        "  model.eval()\n",
        "  valid_metrics = evaluate_model(model, X_valid, y_valid, loss_fn)\n",
        "  if valid_metrics[\"loss\"] < best_val_loss:\n",
        "    best_val_loss = valid_metrics[\"loss\"]\n",
        "    steps_without_improvement = 0\n",
        "    best_model = deepcopy(model)\n",
        "    best_threshold = valid_metrics[\"optimal_threshold\"]\n",
        "  else:\n",
        "    steps_without_improvement += 1\n",
        "    if steps_without_improvement == early_stopping_patience: break\n",
        "  print(f\"Epoch {epoch_num} train loss: {loss.item():.4f}, eval loss{valid_metrics['loss']}\")\n"
      ]
    },
    {
      "cell_type": "code",
      "execution_count": 77,
      "metadata": {
        "scrolled": true,
        "id": "C3JmM-HvgY7_",
        "colab": {
          "base_uri": "https://localhost:8080/"
        },
        "outputId": "b77c2924-beba-4e30-9480-254190fde30c"
      },
      "outputs": [
        {
          "output_type": "stream",
          "name": "stdout",
          "text": [
            "AUROC: 90.65%\n",
            "F1: 69.42%\n",
            "Precision: 63.04%\n",
            "Recall: 77.23%\n"
          ]
        }
      ],
      "source": [
        "test_metrics = evaluate_model(best_model, X_test, y_test, loss_fn, best_threshold)\n",
        "\n",
        "print(f\"AUROC: {100 * test_metrics['AUROC']:.2f}%\")\n",
        "print(f\"F1: {100 * test_metrics['F1-score']:.2f}%\")\n",
        "print(f\"Precision: {100 * test_metrics['precision']:.2f}%\")\n",
        "print(f\"Recall: {100 * test_metrics['recall']:.2f}%\")"
      ]
    },
    {
      "cell_type": "markdown",
      "metadata": {
        "id": "XyoRnHT4GFR9"
      },
      "source": [
        "## Akceleracja sprzętowa (dla zainteresowanych)"
      ]
    },
    {
      "cell_type": "markdown",
      "metadata": {
        "id": "oAVvCdP-gY8A"
      },
      "source": [
        "Jak wcześniej wspominaliśmy, użycie akceleracji sprzętowej, czyli po prostu GPU do obliczeń, jest bardzo efektywne w przypadku sieci neuronowych. Karty graficzne bardzo efektywnie mnożą macierze, a sieci neuronowe to, jak można było się przekonać, dużo mnożenia macierzy.\n",
        "\n",
        "W PyTorchu jest to dosyć łatwe, ale trzeba robić to explicite. Służy do tego metoda `.to()`, która przenosi tensory między CPU i GPU. Poniżej przykład, jak to się robi (oczywiście trzeba mieć skonfigurowane GPU, żeby działało):"
      ]
    },
    {
      "cell_type": "code",
      "execution_count": null,
      "metadata": {
        "id": "SiGG_3tugY8A"
      },
      "outputs": [],
      "source": [
        "import time\n",
        "\n",
        "\n",
        "class CudaMLP(nn.Module):\n",
        "    def __init__(self, input_size: int, dropout_p: float = 0.5):\n",
        "        super().__init__()\n",
        "\n",
        "        self.mlp = nn.Sequential(\n",
        "            nn.Linear(input_size, 512),\n",
        "            nn.BatchNorm1d(512),\n",
        "            nn.ReLU(),\n",
        "            nn.Dropout(dropout_p),\n",
        "            nn.Linear(512, 256),\n",
        "            nn.BatchNorm1d(256),\n",
        "            nn.ReLU(),\n",
        "            nn.Dropout(dropout_p),\n",
        "            nn.Linear(256, 256),\n",
        "            nn.BatchNorm1d(256),\n",
        "            nn.ReLU(),\n",
        "            nn.Dropout(dropout_p),\n",
        "            nn.Linear(256, 128),\n",
        "            nn.BatchNorm1d(128),\n",
        "            nn.ReLU(),\n",
        "            nn.Dropout(dropout_p),\n",
        "            nn.Linear(128, 1),\n",
        "        )\n",
        "\n",
        "    def forward(self, x):\n",
        "        return self.mlp(x)\n",
        "\n",
        "    def predict_proba(self, x):\n",
        "        return sigmoid(self(x))\n",
        "\n",
        "    def predict(self, x, threshold: float = 0.5):\n",
        "        y_pred_score = self.predict_proba(x)\n",
        "        return (y_pred_score > threshold).to(torch.int32)\n",
        "\n",
        "\n",
        "model = CudaMLP(X_train.shape[1]).to('cuda')\n",
        "\n",
        "optimizer = torch.optim.AdamW(model.parameters(), lr=learning_rate, weight_decay=1e-4)\n",
        "\n",
        "# note that we are using loss function with sigmoid built in\n",
        "loss_fn = torch.nn.BCEWithLogitsLoss(pos_weight=torch.from_numpy(weights)[1].to('cuda'))\n",
        "\n",
        "step_counter = 0\n",
        "time_from_eval = time.time()\n",
        "for epoch_id in range(30):\n",
        "    for batch_x, batch_y in train_dataloader:\n",
        "        batch_x = batch_x.to('cuda')\n",
        "        batch_y = batch_y.to('cuda')\n",
        "\n",
        "        loss = loss_fn(model(batch_x), batch_y)\n",
        "        loss.backward()\n",
        "\n",
        "        optimizer.step()\n",
        "        optimizer.zero_grad()\n",
        "\n",
        "        if step_counter % evaluation_steps == 0:\n",
        "            print(f\"Epoch {epoch_id} train loss: {loss.item():.4f}, time: {time.time() - time_from_eval}\")\n",
        "            time_from_eval = time.time()\n",
        "\n",
        "        step_counter += 1\n",
        "\n",
        "test_res = evaluate_model(model.to('cpu'), X_test, y_test, loss_fn.to('cpu'), threshold=0.5)\n",
        "\n",
        "print(f\"AUROC: {100 * test_res['AUROC']:.2f}%\")\n",
        "print(f\"F1: {100 * test_res['F1-score']:.2f}%\")\n",
        "print(test_res)"
      ]
    },
    {
      "cell_type": "markdown",
      "metadata": {
        "id": "nHWQA_V7gY8B"
      },
      "source": [
        "Co prawda ten model nie będzie tak dobry jak ten z laboratorium, ale zwróć uwagę, o ile jest większy, a przy tym szybszy.\n",
        "\n",
        "Dla zainteresowanych polecamy [tę serie artykułów](https://medium.com/@adi.fu7/ai-accelerators-part-i-intro-822c2cdb4ca4)"
      ]
    },
    {
      "cell_type": "markdown",
      "metadata": {
        "id": "6HWYE3qhgY8B"
      },
      "source": [
        "## Zadanie dla chętnych"
      ]
    },
    {
      "cell_type": "markdown",
      "metadata": {
        "id": "yTqBfMthgY8C"
      },
      "source": [
        "Jak widzieliśmy, sieci neuronowe mają bardzo dużo hiperparametrów. Przeszukiwanie ich grid search'em jest więc niewykonalne, a chociaż random search by działał, to potrzebowałby wielu iteracji, co też jest kosztowne obliczeniowo.\n",
        "\n",
        "Zaimplementuj inteligentne przeszukiwanie przestrzeni hiperparametrów za pomocą biblioteki [Optuna](https://optuna.org/). Implementuje ona między innymi algorytm Tree Parzen Estimator (TPE), należący do grupy algorytmów typu Bayesian search. Typowo osiągają one bardzo dobre wyniki, a właściwie zawsze lepsze od przeszukiwania losowego. Do tego wystarcza im często niewielka liczba kroków.\n",
        "\n",
        "Zaimplementuj 3-warstwową sieć MLP, gdzie pierwsza warstwa ma rozmiar ukryty N, a druga N // 2. Ucz ją optymalizatorem Adam przez maksymalnie 300 epok z cierpliwością 10.\n",
        "\n",
        "Przeszukaj wybrane zakresy dla hiperparametrów:\n",
        "- rozmiar warstw ukrytych (N)\n",
        "- stała ucząca\n",
        "- batch size\n",
        "- siła regularyzacji L2\n",
        "- prawdopodobieństwo dropoutu\n",
        "\n",
        "Wykorzystaj przynajmniej 30 iteracji. Następnie przełącz algorytm na losowy (Optuna także jego implementuje), wykonaj 30 iteracji i porównaj jakość wyników.\n",
        "\n",
        "Przydatne materiały:\n",
        "- [Optuna code examples - PyTorch](https://optuna.org/#code_examples)\n",
        "- [Auto-Tuning Hyperparameters with Optuna and PyTorch](https://www.youtube.com/watch?v=P6NwZVl8ttc)\n",
        "- [Hyperparameter Tuning of Neural Networks with Optuna and PyTorch](https://towardsdatascience.com/hyperparameter-tuning-of-neural-networks-with-optuna-and-pytorch-22e179efc837)\n",
        "- [Using Optuna to Optimize PyTorch Hyperparameters](https://medium.com/pytorch/using-optuna-to-optimize-pytorch-hyperparameters-990607385e36)"
      ]
    },
    {
      "cell_type": "code",
      "execution_count": null,
      "metadata": {
        "id": "kfTxR19xgY8C"
      },
      "outputs": [],
      "source": []
    }
  ],
  "metadata": {
    "colab": {
      "provenance": []
    },
    "kernelspec": {
      "display_name": "Python 3 (ipykernel)",
      "language": "python",
      "name": "python3"
    },
    "language_info": {
      "codemirror_mode": {
        "name": "ipython",
        "version": 3
      },
      "file_extension": ".py",
      "mimetype": "text/x-python",
      "name": "python",
      "nbconvert_exporter": "python",
      "pygments_lexer": "ipython3",
      "version": "3.10.6"
    },
    "vscode": {
      "interpreter": {
        "hash": "a5d7af91182035c53be6efb3f9b18ffc3e259c9c524705249407647c970de949"
      }
    }
  },
  "nbformat": 4,
  "nbformat_minor": 0
}